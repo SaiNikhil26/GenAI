{
 "cells": [
  {
   "cell_type": "markdown",
   "metadata": {},
   "source": [
    "# **Introduction to LangGraph**"
   ]
  },
  {
   "cell_type": "code",
   "execution_count": 1,
   "metadata": {},
   "outputs": [
    {
     "data": {
      "text/plain": [
       "True"
      ]
     },
     "execution_count": 1,
     "metadata": {},
     "output_type": "execute_result"
    }
   ],
   "source": [
    "from IPython.display import display, Markdown, Image\n",
    "from dotenv import load_dotenv\n",
    "load_dotenv()"
   ]
  },
  {
   "cell_type": "markdown",
   "metadata": {},
   "source": [
    "On a high level, there are 3 steps before creating a graph - \n",
    "- Setting up the agent state\n",
    "- Creating / having a set of tools for the agent to use\n",
    "- Setup the agent and begin creating the graph\n",
    "\n",
    "For creating the graph - \n",
    "- create the graph workflow by adding nodes and edges\n",
    "- see if there is any need for conditional edges\n",
    "- use functions properly to define the flow of the graph (like, is it an action, is it a call, is it the end, etc.)"
   ]
  },
  {
   "cell_type": "markdown",
   "metadata": {},
   "source": [
    "**But we can start by building very simple graphs, without having complex states, conditional edges, tools, etc. as well**\n",
    "\n",
    "So, let's begin!"
   ]
  },
  {
   "cell_type": "code",
   "execution_count": 2,
   "metadata": {},
   "outputs": [],
   "source": [
    "from typing import TypedDict, Annotated\n",
    "from langchain_openai import ChatOpenAI\n",
    "from langgraph.graph import StateGraph, START, END\n",
    "from langgraph.graph.message import add_messages\n",
    "\n",
    "model = ChatOpenAI(model=\"gpt-4o-mini\")\n",
    "\n",
    "# let's create the agent state\n",
    "class AgentState(TypedDict):\n",
    "    messages: Annotated[list, add_messages] # adds messages to the state without overrides, maintaining state"
   ]
  },
  {
   "cell_type": "code",
   "execution_count": 3,
   "metadata": {},
   "outputs": [],
   "source": [
    "# Our first graph\n",
    "graph_builder = StateGraph(AgentState)\n",
    "\n",
    "# a simple chatbot function for our graph\n",
    "def chatbot(state: AgentState):\n",
    "    return {\n",
    "        \"messages\": model.invoke(state['messages']) # run model on all messages (simple history kinda)\n",
    "    }"
   ]
  },
  {
   "cell_type": "code",
   "execution_count": 4,
   "metadata": {},
   "outputs": [
    {
     "data": {
      "image/png": "[encoded data removed]",
      "text/plain": [
       "<IPython.core.display.Image object>"
      ]
     },
     "metadata": {},
     "output_type": "display_data"
    }
   ],
   "source": [
    "# let's add nodes and edges (obviously)\n",
    "graph_builder.add_node(\"chatbot\",chatbot)\n",
    "graph_builder.add_edge(START,\"chatbot\")\n",
    "graph_builder.add_edge(\"chatbot\",END)\n",
    "\n",
    "graph = graph_builder.compile()\n",
    "\n",
    "try: display(Image(graph.get_graph().draw_mermaid_png()))\n",
    "except: pass"
   ]
  },
  {
   "cell_type": "code",
   "execution_count": 5,
   "metadata": {},
   "outputs": [
    {
     "name": "stdout",
     "output_type": "stream",
     "text": [
      "You: hey\n",
      "AI: Hello! How can I assist you today?\n",
      "You: what is 2+3?\n",
      "AI: 2 + 3 equals 5.\n",
      "You: quit\n"
     ]
    }
   ],
   "source": [
    "# Let's use our chatbot now\n",
    "while True:\n",
    "    query = input()\n",
    "    print(f\"You: {query}\")\n",
    "    if query.lower() in (\"quit\",\"exit\"): break\n",
    "    \n",
    "    response = graph.invoke({\"messages\":[query]})\n",
    "    print(f\"AI: {response[\"messages\"][-1].content}\")"
   ]
  },
  {
   "cell_type": "markdown",
   "metadata": {},
   "source": [
    "### Using tools\n",
    "Now that we know how to create a graph simply, let's try adding tools.\n",
    "The AI must use these tools to generate the response, if it is available. If not, then allowing it to generate its own response or to say that it can't answer, is up to you."
   ]
  },
  {
   "cell_type": "code",
   "execution_count": 6,
   "metadata": {},
   "outputs": [
    {
     "name": "stdout",
     "output_type": "stream",
     "text": [
      "Page: Sachin Tendulkar\n",
      "Summary: Sachin Ramesh Tendulkar ( ; pronounced [sətɕin teːɳɖulkəɾ]; born 24 April 1973) is an Indian former international cricketer who captained the Indian national team. He is widely regarded as one of the greatest cricketers of all time, and is the holder of several world \n"
     ]
    }
   ],
   "source": [
    "# import tools and utilities\n",
    "from langchain_community.utilities import WikipediaAPIWrapper\n",
    "from langchain_community.tools import WikipediaQueryRun\n",
    "\n",
    "wikipedia_tool = WikipediaQueryRun(\n",
    "    api_wrapper=WikipediaAPIWrapper(top_k_results=1, doc_content_chars_max=300)\n",
    ")\n",
    "\n",
    "# you can also use tools directly, as they too (just like any other langchain class) have the invoke() method\n",
    "print(wikipedia_tool.invoke(\"Who is Sachin Tendulkar?\"))"
   ]
  },
  {
   "cell_type": "code",
   "execution_count": 7,
   "metadata": {},
   "outputs": [],
   "source": [
    "tools = [wikipedia_tool]\n",
    "\n",
    "# we can create another state if we want, but let's use the same state class\n",
    "graph_with_tools_builder = StateGraph(AgentState)\n",
    "\n",
    "model_with_tools = model.bind_tools(tools=tools)\n",
    "\n",
    "# update chatbot function\n",
    "def chatbot(state: AgentState):\n",
    "    return {\n",
    "        \"messages\": model_with_tools.invoke(state['messages']) # use 'model_with_tools'\n",
    "    }"
   ]
  },
  {
   "cell_type": "code",
   "execution_count": 8,
   "metadata": {},
   "outputs": [
    {
     "data": {
      "image/png": "[encoded data removed]",
      "text/plain": [
       "<IPython.core.display.Image object>"
      ]
     },
     "metadata": {},
     "output_type": "display_data"
    }
   ],
   "source": [
    "from langgraph.prebuilt import ToolNode, tools_condition # the tool is also has to be a node, so we hv2 make it as one\n",
    "\n",
    "graph_with_tools_builder.add_node(\"chatbot\",chatbot)\n",
    "graph_with_tools_builder.add_edge(START,\"chatbot\")\n",
    "\n",
    "tool_node = ToolNode(tools=tools)\n",
    "graph_with_tools_builder.add_node(\"tools\",tool_node)\n",
    "graph_with_tools_builder.add_conditional_edges(\n",
    "    \"chatbot\", tools_condition\n",
    ")\n",
    "graph_with_tools_builder.add_edge(\"tools\",\"chatbot\")\n",
    "\n",
    "graph_with_tools_builder.add_edge(\"chatbot\",END)\n",
    "\n",
    "graph = graph_with_tools_builder.compile()\n",
    "\n",
    "try: display(Image(graph.get_graph().draw_mermaid_png()))\n",
    "except: pass"
   ]
  },
  {
   "cell_type": "markdown",
   "metadata": {},
   "source": [
    "*As you can see, the dotted lines are conditional edges*"
   ]
  },
  {
   "cell_type": "code",
   "execution_count": 9,
   "metadata": {},
   "outputs": [
    {
     "name": "stdout",
     "output_type": "stream",
     "text": [
      "You: tell me about sachin tendulkar\n",
      "==================================\u001b[1m Ai Message \u001b[0m==================================\n",
      "\n",
      "Sachin Ramesh Tendulkar, born on April 24, 1973, is a former Indian international cricketer who captained the Indian national team. He is widely regarded as one of the greatest cricketers of all time and holds several world records in the sport. Tendulkar's cricketing career spanned over two decades, during which he became known for his exceptional batting skills and consistency.\n",
      "\n",
      "He played a pivotal role in Indian cricket and is celebrated not only for his achievements on the field but also for his sportsmanship and humility. Tendulkar's contributions to cricket have made him an iconic figure in the sport, and he continues to inspire many aspiring cricketers around the world.\n",
      "You: quit\n"
     ]
    }
   ],
   "source": [
    "# Let's use our chatbot now\n",
    "while True:\n",
    "    query = input()\n",
    "    print(f\"You: {query}\")\n",
    "    if query.lower() in (\"quit\",\"exit\"): break\n",
    "    \n",
    "    response = graph.invoke({\"messages\":[query]})\n",
    "    response[\"messages\"][-1].pretty_print()\n"
   ]
  },
  {
   "cell_type": "markdown",
   "metadata": {},
   "source": [
    "### Creating Multi-agentic frameworks\n",
    "\n",
    "**Building a RAG Application**\n",
    "\n",
    "Let's see how to create multiple agents, connect them to tools and vector db anol."
   ]
  },
  {
   "cell_type": "code",
   "execution_count": 26,
   "metadata": {},
   "outputs": [
    {
     "name": "stdout",
     "output_type": "stream",
     "text": [
      "Vector store already exists.\n"
     ]
    },
    {
     "data": {
      "text/plain": [
       "[Document(metadata={'Source': 'animals.txt'}, page_content='## Classification of Animals  \\nAnimals are broadly classified into **vertebrates** and **invertebrates** based on the presence or absence of a backbone.  \\n\\n### 1. Vertebrates  \\nVertebrates are animals that have a backbone and a well-developed internal skeleton. They are further divided into five major classes:')]"
      ]
     },
     "execution_count": 26,
     "metadata": {},
     "output_type": "execute_result"
    }
   ],
   "source": [
    "import os\n",
    "from langchain.text_splitter import CharacterTextSplitter\n",
    "from langchain_community.document_loaders import TextLoader\n",
    "from langchain_community.vectorstores import Chroma\n",
    "from langchain_openai import OpenAIEmbeddings\n",
    "\n",
    "# Now let's see why adding metadata to RAG is important\n",
    "\n",
    "data_folder = r\"data\"\n",
    "persist_directory = r\"db/chroma_db_with_metadata\"\n",
    "\n",
    "# No need to create if already exists\n",
    "if not os.path.exists(persist_directory):\n",
    "    print(\"--- Initializing Vector Store ---\")\n",
    "    \n",
    "    files = [f for f in os.listdir(data_folder) if f.endswith(\".txt\")]\n",
    "    documents = []\n",
    "\n",
    "    for file in files:\n",
    "        file_path = os.path.join(data_folder,file)\n",
    "        loader = TextLoader(file_path)\n",
    "        text_docs = loader.load()\n",
    "        for doc in text_docs:\n",
    "            doc.metadata = {\"Source\":file} # add metadata for the document\n",
    "            documents.append(doc)\n",
    "\n",
    "    text_splitter = CharacterTextSplitter(chunk_size=500,chunk_overlap=50)\n",
    "    docs = text_splitter.split_documents(documents)\n",
    "\n",
    "    print(f\"Number of chunks: {len(docs)}\")\n",
    "\n",
    "    # create embeddings, initialize the vector store\n",
    "    embeddings = OpenAIEmbeddings(model=\"text-embedding-3-small\")\n",
    "    db = Chroma.from_documents(docs, embeddings, persist_directory=persist_directory)\n",
    "\n",
    "    print(\"Embeddings ready, vector store initialized.\")\n",
    "else: print(\"Vector store already exists.\")\n",
    "\n",
    "db = Chroma(persist_directory=persist_directory,embedding_function=embeddings)\n",
    "\n",
    "retriever = db.as_retriever(\n",
    "    search_type=\"similarity_score_threshold\",\n",
    "    search_kwargs={\"k\":1,\"score_threshold\":0.1}\n",
    ")\n",
    "\n",
    "# test retriever once\n",
    "retriever.invoke(\"what are vertebrates?\")"
   ]
  },
  {
   "cell_type": "code",
   "execution_count": 16,
   "metadata": {},
   "outputs": [],
   "source": [
    "# we can't use the same state now, and we need to create some schema... lot of work to do\n",
    "from typing import Literal\n",
    "from langchain_core.prompts import ChatPromptTemplate\n",
    "from langchain_core.pydantic_v1 import BaseModel, Field\n",
    "\n",
    "# class for agent to route query (vector db or wiki search)\n",
    "class RouteQuery(BaseModel):\n",
    "    datasource : Literal[\"vectorstore\",\"wikisearch\"] = Field(\n",
    "        ..., # means it can be anything, but has to be there\n",
    "        description=\"Given user input, choose to route it to Wikipedia or vector database.\"\n",
    "    )"
   ]
  },
  {
   "cell_type": "code",
   "execution_count": 18,
   "metadata": {},
   "outputs": [
    {
     "name": "stdout",
     "output_type": "stream",
     "text": [
      "datasource='vectorstore'\n",
      "datasource='wikisearch'\n"
     ]
    }
   ],
   "source": [
    "# creating our router functions\n",
    "structured_router = model.with_structured_output(RouteQuery) # this router decides from llm input\n",
    "\n",
    "structured_router_prompt = \"\"\"\n",
    "You are an expert at routing a user query to vector database or wikipedia search.\n",
    "The vector db contains information about animals, birds, music and food.\n",
    "Use the vectorstore for these queries, and use wikisearch otherwise.\n",
    "Don't answer the question, just provide the value for 'datasource'.\n",
    "\"\"\"\n",
    "\n",
    "prompt_template = ChatPromptTemplate.from_messages(\n",
    "    [\n",
    "        (\"system\",structured_router_prompt),\n",
    "        (\"human\",\"{query}\")\n",
    "    ]\n",
    ")\n",
    "\n",
    "router = prompt_template | structured_router \n",
    "\n",
    "# test the router\n",
    "print(router.invoke({\"query\":\"Tell me about animals in one line.\"}))\n",
    "print(router.invoke({\"query\":\"Who is Sachin Tendulkar?\"}))"
   ]
  },
  {
   "cell_type": "code",
   "execution_count": 19,
   "metadata": {},
   "outputs": [],
   "source": [
    "from typing import List\n",
    "\n",
    "class GraphState(TypedDict):\n",
    "    query: str # user query\n",
    "    generation: str # LLM response\n",
    "    documents: List[str] # list of docs\n"
   ]
  },
  {
   "cell_type": "code",
   "execution_count": 32,
   "metadata": {},
   "outputs": [],
   "source": [
    "from langchain.schema import Document\n",
    "\n",
    "# retrieval function for vectorstore agent\n",
    "def retrieve(state: GraphState):\n",
    "    \"\"\"Retrieve documents from vectorstore and add it to the 'documents' of state\"\"\"\n",
    "    questions = state['query']\n",
    "    docs = retriever.invoke(questions)\n",
    "    return {\"documents\": docs, \"query\": questions}\n",
    "\n",
    "# search function for wikisearch agent\n",
    "def search(state: GraphState):\n",
    "    \"\"\"Retrieve documents from wikipedia search and add it to the 'documents' of state\"\"\"\n",
    "    questions = state['query']\n",
    "    docs = Document(page_content=wikipedia_tool.invoke(questions))\n",
    "    return {\"documents\": docs, \"query\": questions}\n",
    "\n",
    "# router function\n",
    "def route(state: GraphState):\n",
    "    source = router.invoke({\"query\": state[\"query\"]})\n",
    "    return source.datasource"
   ]
  },
  {
   "cell_type": "code",
   "execution_count": 33,
   "metadata": {},
   "outputs": [
    {
     "data": {
      "image/png": "[encoded data removed]",
      "text/plain": [
       "<IPython.core.display.Image object>"
      ]
     },
     "metadata": {},
     "output_type": "display_data"
    }
   ],
   "source": [
    "# Let's create our graph now! \n",
    "\n",
    "workflow = StateGraph(GraphState) # lol i dint think of this\n",
    "\n",
    "workflow.add_node(\"wikipedia_search\", search)\n",
    "workflow.add_node(\"vectorstore_retrieve\", retrieve)\n",
    "\n",
    "workflow.add_conditional_edges(\n",
    "    START,\n",
    "    route,\n",
    "    {\n",
    "        \"vectorstore\": \"vectorstore_retrieve\",\n",
    "        \"wikisearch\":\"wikipedia_search\"\n",
    "    }\n",
    ")\n",
    "\n",
    "workflow.add_edge(\"vectorstore_retrieve\",END)\n",
    "workflow.add_edge(\"wikipedia_search\",END)\n",
    "\n",
    "graph = workflow.compile()\n",
    "\n",
    "try: display(Image(graph.get_graph().draw_mermaid_png()))\n",
    "except: pass"
   ]
  },
  {
   "cell_type": "code",
   "execution_count": null,
   "metadata": {},
   "outputs": [
    {
     "name": "stdout",
     "output_type": "stream",
     "text": [
      "{'query': 'Who is Sachin Tendulkar?'}\n",
      "'Node: wikipedia_search: '\n",
      "('Page: Sachin Tendulkar\\n'\n",
      " 'Summary: Sachin Ramesh Tendulkar ( ; pronounced [sətɕin teːɳɖulkəɾ]; born 24 '\n",
      " 'April 1973) is an Indian former international cricketer who captained the '\n",
      " 'Indian national team. He is widely regarded as one of the greatest '\n",
      " 'cricketers of all time, and is the holder of several world ')\n",
      "----------\n",
      "{'query': 'Tell me about animals and their classes'}\n",
      "'Node: vectorstore_retrieve: '\n",
      "('## Classification of Animals  \\n'\n",
      " 'Animals are broadly classified into **vertebrates** and **invertebrates** '\n",
      " 'based on the presence or absence of a backbone.  \\n'\n",
      " '\\n'\n",
      " '### 1. Vertebrates  \\n'\n",
      " 'Vertebrates are animals that have a backbone and a well-developed internal '\n",
      " 'skeleton. They are further divided into five major classes:')\n",
      "----------\n"
     ]
    }
   ],
   "source": [
    "# test our graph (not gonna make convos again...)\n",
    "from pprint import pprint\n",
    "\n",
    "inputs = [\n",
    "    {\n",
    "        \"query\": \"Who is Sachin Tendulkar?\"\n",
    "    },\n",
    "    {\n",
    "        \"query\": \"Tell me about animals and their classes\"\n",
    "    }\n",
    "]\n",
    "\n",
    "for user_input in inputs:\n",
    "    print(user_input)\n",
    "    for output in graph.stream(user_input):\n",
    "        for k, v in output.items():\n",
    "            pprint(f\"Node: {k}: \")\n",
    "            if k==\"wikipedia_search\": v[\"documents\"]=[v[\"documents\"]] # to make printing easy\n",
    "            # wikipedia gives a document object, while vector retrieval gives a list of document objects\n",
    "\n",
    "    pprint(v[\"documents\"][0].page_content)\n",
    "    print(\"----------\")\n"
   ]
  },
  {
   "cell_type": "code",
   "execution_count": null,
   "metadata": {},
   "outputs": [],
   "source": []
  }
 ],
 "metadata": {
  "kernelspec": {
   "display_name": "Python 3",
   "language": "python",
   "name": "python3"
  },
  "language_info": {
   "codemirror_mode": {
    "name": "ipython",
    "version": 3
   },
   "file_extension": ".py",
   "mimetype": "text/x-python",
   "name": "python",
   "nbconvert_exporter": "python",
   "pygments_lexer": "ipython3",
   "version": "3.12.4"
  }
 },
 "nbformat": 4,
 "nbformat_minor": 2
}
