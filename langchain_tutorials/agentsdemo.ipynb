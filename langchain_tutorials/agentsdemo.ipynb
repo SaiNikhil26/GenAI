{
 "cells": [
  {
   "cell_type": "code",
   "execution_count": 1,
   "metadata": {},
   "outputs": [
    {
     "data": {
      "text/plain": [
       "True"
      ]
     },
     "execution_count": 1,
     "metadata": {},
     "output_type": "execute_result"
    }
   ],
   "source": [
    "from dotenv import load_dotenv\n",
    "import os\n",
    "# Load environment variables from .env file\n",
    "load_dotenv()"
   ]
  },
  {
   "cell_type": "code",
   "execution_count": 8,
   "metadata": {},
   "outputs": [],
   "source": [
    "from langchain.agents import tool\n",
    "\n",
    "@tool\n",
    "def add(a, b) -> int:\n",
    "    \"\"\"Adds a and b.\"\"\"\n",
    "    return int(a) + int(b)\n",
    "\n",
    "@tool\n",
    "def subtract(a, b) -> int:\n",
    "    \"\"\"subtract  b from  a.\"\"\"\n",
    "    return int(a) -int(b)\n",
    "\n",
    "\n",
    "@tool\n",
    "def multiply(a, b) -> int:\n",
    "    \"\"\"Multiplies a and b.\"\"\"\n",
    "    return int(a) * int(b)"
   ]
  },
  {
   "cell_type": "code",
   "execution_count": 9,
   "metadata": {},
   "outputs": [
    {
     "data": {
      "text/plain": [
       "StructuredTool(name='multiply', description='Multiplies a and b.', args_schema=<class 'langchain_core.utils.pydantic.multiply'>, func=<function multiply at 0x000002169D78FF60>)"
      ]
     },
     "execution_count": 9,
     "metadata": {},
     "output_type": "execute_result"
    }
   ],
   "source": [
    "multiply"
   ]
  },
  {
   "cell_type": "code",
   "execution_count": 13,
   "metadata": {},
   "outputs": [],
   "source": [
    "tools = [ multiply,subtract]"
   ]
  },
  {
   "cell_type": "code",
   "execution_count": null,
   "metadata": {},
   "outputs": [
    {
     "data": {
      "text/plain": [
       "StructuredTool(name='search-tool', description='Look up things online.', args_schema=<class '__main__.SearchInput'>, return_direct=True, func=<function search at 0x000002169D78F600>)"
      ]
     },
     "execution_count": 5,
     "metadata": {},
     "output_type": "execute_result"
    }
   ],
   "source": [
    "from pydantic import BaseModel, Field\n",
    "\n",
    "class SearchInput(BaseModel):\n",
    "    query: str = Field(description=\"should be a search query\")\n",
    "\n",
    "\n",
    "@tool(\"search-tool\", args_schema=SearchInput)\n",
    "def search(query: str) -> str:\n",
    "    \"\"\"Look up things online.\"\"\"\n",
    "    return \"LangChain\"\n",
    "\n",
    "search"
   ]
  },
  {
   "cell_type": "code",
   "execution_count": 10,
   "metadata": {},
   "outputs": [
    {
     "data": {
      "text/plain": [
       "StructuredTool(name='sivaprasadmultiply', description='Multiplies two numbers', args_schema=<class '__main__.MultiplyInput'>, func=<function sivamultiply at 0x00000216CAB2B600>)"
      ]
     },
     "execution_count": 10,
     "metadata": {},
     "output_type": "execute_result"
    }
   ],
   "source": [
    "from langchain.tools import  StructuredTool\n",
    "\n",
    "def sivamultiply(a, b) -> int:\n",
    "    \"\"\"Multiplies a and b.\"\"\"\n",
    "    return int(a) * int(b)\n",
    "\n",
    "class MultiplyInput(BaseModel):\n",
    "    \"\"\"Multiply two integers together.\"\"\"\n",
    "\n",
    "    a: int = Field(..., description=\"First integer\")\n",
    "    b: int = Field(..., description=\"Second integer\")\n",
    "\n",
    "multiplytool=StructuredTool.from_function(\n",
    "                        func=sivamultiply,\n",
    "                        name=\"sivaprasadmultiply\",\n",
    "                        description=\"Multiplies two numbers\",\n",
    "                        args_schema=MultiplyInput,\n",
    "                    )\n",
    "multiplytool"
   ]
  },
  {
   "cell_type": "code",
   "execution_count": null,
   "metadata": {},
   "outputs": [
    {
     "data": {
      "text/plain": [
       "[{'url': 'https://www.lwww.in/home/about-us',\n",
       "  'content': 'Home About Self Paced Course Instructor Led Course Contact SivaPrasad Valluru is a instructor with 20 years of experince in IT . Now, he delivers corporate trainings. He got certified as a instructor from Mulesoft and Pivotal and has delivered many certified trainings. He spends a lot of time in understanding the frameworks and explores the internal workings. Since he knows most of the internals, he delivers training with confidence. While delivering trainings, he never uses high level jargons and presentations. Once you attend his training, you will be able to explain any concepts clearly and will answer any questions logically in interviews Advance Courses Want to talk to us reagrding any course or live training or corporate training requirement?'},\n",
       " {'url': 'https://www.linkedin.com/in/sivaprasad-valluru-294b0528',\n",
       "  'content': 'Siva is a skilled Web Dynpro and Java developer, and doubled up as a NWDI administrator during the start of the project. His ability to work efficiently under'},\n",
       " {'url': 'https://www.zaubacorp.com/SIVAPRASAD-VALLURU-08853173',\n",
       "  'content': 'Company SIVAPRASAD VALLURU is a director registered with Ministry of Corporate Affairs. SIVAPRASAD VALLURU is/has been associated with 2 companies. Companies Associated With Company Date of Appointment ARTIZAN MEDITEK PRIVATE LIMITED Past Companies Associated With Company Date of Cessation Purchase Company Reports You have the following companies in your cart. To add more companies to cart, you may close this window and continue adding other companies to your cart. Purchase Company Reports You may add a company to your cart by clicking on \"Purchase Report\" on any company profile page. Purchase Company Report You have the following companies in your cart. To add more companies to cart, you may close this window and continue adding other companies to your cart.'},\n",
       " {'url': 'https://in.linkedin.com/in/siva-prasad-valluru-6b76b515',\n",
       "  'content': '“Siva is an excellent trainer for Core Spring. He walks through the each and every slide clearly. He made to understand all the concepts thoroughly without any'},\n",
       " {'url': 'https://www.filesure.in/director/sivaprasad-valluru/08853173',\n",
       "  'content': 'Sivaprasad Valluru - Director Insights, Profile, and Associated Companies | FileSure Sivaprasad Valluru is currently associated with 2 companies in various capacities such as Director and Individual Promoter. The first company Sivaprasad Valluru was appointed to as a director was HEAL FORCE INDIA PRIVATE LIMITED. Sivaprasad Valluru is currently associated with 2 companies in various capacities such as Director and Individual Promoter. The first company Sivaprasad Valluru was appointed to as a director was HEAL FORCE INDIA PRIVATE LIMITED. How many companies is SIVAPRASAD VALLURU associated with currently? Which companies is SIVAPRASAD VALLURU currently associated with? What is the name of the first company associated with SIVAPRASAD VALLURU? What is the name of the latest company associated with SIVAPRASAD VALLURU?'}]"
      ]
     },
     "execution_count": 12,
     "metadata": {},
     "output_type": "execute_result"
    }
   ],
   "source": [
    "from langchain_community.tools.tavily_search import TavilySearchResults\n",
    "\n",
    "taviltysearch = TavilySearchResults(max_results=5)\n",
    "taviltysearch.invoke(\"Tell me about Sivaprasad Valluru\")\n",
    "\n",
    "\n"
   ]
  },
  {
   "cell_type": "code",
   "execution_count": null,
   "metadata": {},
   "outputs": [
    {
     "data": {
      "text/plain": [
       "AIMessage(content='', additional_kwargs={'tool_calls': [{'id': 'call_bZV4GhUVRe2A33tpxeEb8Ubj', 'function': {'arguments': '{\"query\":\"Sachin Tendulkar\"}', 'name': 'tavily_search_results_json'}, 'type': 'function'}], 'refusal': None}, response_metadata={'token_usage': {'completion_tokens': 25, 'prompt_tokens': 161, 'total_tokens': 186, 'completion_tokens_details': {'accepted_prediction_tokens': 0, 'audio_tokens': 0, 'reasoning_tokens': 0, 'rejected_prediction_tokens': 0}, 'prompt_tokens_details': {'audio_tokens': 0, 'cached_tokens': 0}}, 'model_name': 'gpt-3.5-turbo-0125', 'system_fingerprint': None, 'finish_reason': 'tool_calls', 'logprobs': None}, id='run-35724fc7-4901-4b14-985d-35c9b199cd8c-0', tool_calls=[{'name': 'tavily_search_results_json', 'args': {'query': 'Sachin Tendulkar'}, 'id': 'call_bZV4GhUVRe2A33tpxeEb8Ubj', 'type': 'tool_call'}], usage_metadata={'input_tokens': 161, 'output_tokens': 25, 'total_tokens': 186, 'input_token_details': {'audio': 0, 'cache_read': 0}, 'output_token_details': {'audio': 0, 'reasoning': 0}})"
      ]
     },
     "execution_count": 17,
     "metadata": {},
     "output_type": "execute_result"
    }
   ],
   "source": [
    "from langchain_openai import ChatOpenAI\n",
    "from langchain_core.messages import HumanMessage\n",
    "\n",
    "llm = ChatOpenAI()\n",
    "tools = [taviltysearch,add,subtract,multiply]\n",
    "\n",
    "llm_with_tools=llm.bind_tools(tools)\n",
    "\n",
    "llm_with_tools.invoke(\" who is Sachin tendulkar \")"
   ]
  },
  {
   "cell_type": "code",
   "execution_count": 18,
   "metadata": {},
   "outputs": [
    {
     "data": {
      "text/plain": [
       "StructuredTool(name='add', description='Adds a and b.', args_schema=<class 'langchain_core.utils.pydantic.add'>, func=<function add at 0x00000216CAB2BA60>)"
      ]
     },
     "execution_count": 18,
     "metadata": {},
     "output_type": "execute_result"
    }
   ],
   "source": [
    "from typing import Union, List\n",
    "from langchain.tools import Tool\n",
    "\n",
    "def find_tool_by_name(tools: List[Tool], tool_name: str) -> Tool:\n",
    "    for tool in tools:\n",
    "        if tool.name == tool_name:\n",
    "            return tool\n",
    "    raise ValueError(f\"Tool wtih name {tool_name} not found\")\n",
    "\n",
    "find_tool_by_name(tools, \"add\")"
   ]
  },
  {
   "cell_type": "code",
   "execution_count": 19,
   "metadata": {},
   "outputs": [
    {
     "data": {
      "text/plain": [
       "'tavily_search_results_json - A search engine optimized for comprehensive, accurate, and trusted results. Useful for when you need to answer questions about current events. Input should be a search query.\\nadd(a, b) -> int - Adds a and b.\\nsubtract(a, b) -> int - subtract  b from  a.\\nmultiply(a, b) -> int - Multiplies a and b.'"
      ]
     },
     "execution_count": 19,
     "metadata": {},
     "output_type": "execute_result"
    }
   ],
   "source": [
    "from langchain.tools.render import render_text_description\n",
    "render_text_description(tools)"
   ]
  },
  {
   "cell_type": "code",
   "execution_count": 21,
   "metadata": {},
   "outputs": [],
   "source": [
    "from langchain.prompts import PromptTemplate\n",
    "from langchain.tools.render import render_text_description\n",
    "\n",
    "tools = [taviltysearch,add,subtract,multiply]\n",
    "\n",
    "\n",
    "template = \"\"\"\n",
    "    Answer the following questions as best you can. You have access to the following tools:\n",
    "\n",
    "    {tools}\n",
    "\n",
    "    You have to use these tools only even if u can compute the response directly.\n",
    "    Use one tool at a time\n",
    "\n",
    "    Use the following format:\n",
    "\n",
    "    Question: the input question you must answer\n",
    "    Thought: you should always think about what to do\n",
    "    Action: the action to take, should be one of [{tool_names}]\n",
    "    Action Input: the input to the action\n",
    "    Observation: the result of the action\n",
    "    ... (this Thought/Action/Action Input/Observation can repeat N times)\n",
    "    Thought: I now know the final answer\n",
    "    Final Answer: the final answer to the original input question\n",
    "\n",
    "    Begin!\n",
    "\n",
    "    Question: {input}\n",
    "    Thought: {agent_scratchpad}\n",
    "    \"\"\"\n",
    "\n",
    "prompt = PromptTemplate.from_template(template=template).partial(tools=render_text_description(tools),\n",
    "                                                                 tool_names=[tool.name for tool in tools],)\n"
   ]
  },
  {
   "cell_type": "code",
   "execution_count": null,
   "metadata": {},
   "outputs": [
    {
     "name": "stdout",
     "output_type": "stream",
     "text": [
      "tool='add' tool_input='6, 7' log='I can start by adding 6 and 7 together, then multiply the result by 5 to find the final answer.\\n\\nAction: add\\nAction Input: 6, 7'\n"
     ]
    }
   ],
   "source": [
    "from langchain.agents.output_parsers import ReActSingleInputOutputParser\n",
    "from langchain.agents.format_scratchpad import format_log_to_str\n",
    "\n",
    "llm= ChatOpenAI(stop_sequences=[\"\\nObservation\",\"Observation\"])\n",
    "agent = {\n",
    "     \"input\": lambda x: x['input'],\n",
    "     \"agent_scratchpad\": lambda x: format_log_to_str(x['intermediate_steps'])  \n",
    "}| prompt | llm | ReActSingleInputOutputParser()\n",
    "\n",
    "intermediate_steps= []\n",
    "\n",
    "agentaction=agent.invoke({\n",
    "    \"input\": \"what is  sum of 6  and 7 multipled by 5\",\n",
    "    \"intermediate_steps\": []\n",
    "})\n",
    "print(agentaction)\n",
    "#\n",
    "##\n",
    "intermediate_steps.append((agentaction,13))\n"
   ]
  },
  {
   "cell_type": "code",
   "execution_count": 29,
   "metadata": {},
   "outputs": [
    {
     "name": "stdout",
     "output_type": "stream",
     "text": [
      "tool='multiply' tool_input='13, 5' log='I now know the sum of 6 and 7 is 13, next I will multiply it by 5 to get the final answer.\\n\\nAction: multiply\\nAction Input: 13, 5'\n"
     ]
    },
    {
     "data": {
      "text/plain": [
       "'I can start by adding 6 and 7 together, then multiply the result by 5 to find the final answer.\\n\\nAction: add\\nAction Input: 6, 7\\nObservation: 13\\nThought: I now know the sum of 6 and 7 is 13, next I will multiply it by 5 to get the final answer.\\n\\nAction: multiply\\nAction Input: 13, 5\\nObservation: 65\\nThought: '"
      ]
     },
     "execution_count": 29,
     "metadata": {},
     "output_type": "execute_result"
    }
   ],
   "source": [
    "agentaction=agent.invoke({\n",
    "    \"input\": \"what is  sum of 6  and 7 multipled by 5\",\n",
    "    \"intermediate_steps\": intermediate_steps\n",
    "})\n",
    "print(agentaction)\n",
    "intermediate_steps.append((agentaction,65))\n",
    "format_log_to_str(intermediate_steps)"
   ]
  },
  {
   "cell_type": "code",
   "execution_count": 30,
   "metadata": {},
   "outputs": [
    {
     "name": "stdout",
     "output_type": "stream",
     "text": [
      "return_values={'output': 'The sum of 6 and 7 multiplied by 5 is 65.'} log='Final Answer: The sum of 6 and 7 multiplied by 5 is 65.'\n"
     ]
    }
   ],
   "source": [
    "agentaction=agent.invoke({\n",
    "    \"input\": \"what is  sum of 6  and 7 multipled by 5\",\n",
    "    \"intermediate_steps\": intermediate_steps\n",
    "})\n",
    "print(agentaction)"
   ]
  },
  {
   "cell_type": "code",
   "execution_count": 68,
   "metadata": {},
   "outputs": [],
   "source": [
    "from langchain_core.output_parsers import StrOutputParser\n",
    "from langchain.agents.output_parsers import ReActSingleInputOutputParser\n",
    "from langchain.agents.format_scratchpad import format_log_to_str\n",
    "\n",
    "intermediate_steps= []\n",
    "\n",
    "chain=  {\n",
    "    \"input\": lambda x: x['input'],\n",
    "    \"agent_scratchpad\": lambda x: format_log_to_str(x['intermediate_steps']),\n",
    "}| prompt | llm | ReActSingleInputOutputParser()"
   ]
  },
  {
   "cell_type": "code",
   "execution_count": 69,
   "metadata": {},
   "outputs": [
    {
     "name": "stdout",
     "output_type": "stream",
     "text": [
      "tool='add' tool_input='6, 7\\n' log='Thought: To solve this problem, we need to perform addition, multiplication, and possibly subtraction.\\n    Action: add\\n    Action Input: 6, 7\\n    '\n"
     ]
    }
   ],
   "source": [
    "agentaction=chain.invoke({\n",
    "    \"input\": \"what is  sum of 6  and 7 multipled by 5\",\n",
    "    \"intermediate_steps\": intermediate_steps\n",
    "})\n",
    "print(agentaction)"
   ]
  },
  {
   "cell_type": "code",
   "execution_count": 63,
   "metadata": {},
   "outputs": [],
   "source": [
    "intermediate_steps.append((agentaction,13))"
   ]
  },
  {
   "cell_type": "code",
   "execution_count": 64,
   "metadata": {},
   "outputs": [
    {
     "data": {
      "text/plain": [
       "AgentAction(tool='multiply', tool_input='13, 5', log='I added 6 and 7, and the result is 13. Now, I need to multiply this sum by 5.\\nAction: multiply\\nAction Input: 13, 5')"
      ]
     },
     "execution_count": 64,
     "metadata": {},
     "output_type": "execute_result"
    }
   ],
   "source": [
    "agentaction=chain.invoke({\n",
    "    \"input\": \"what is  sum of 6  and 7 multipled by 5\",\n",
    "    \"intermediate_steps\": intermediate_steps\n",
    "})\n",
    "agentaction"
   ]
  },
  {
   "cell_type": "code",
   "execution_count": 65,
   "metadata": {},
   "outputs": [],
   "source": [
    "intermediate_steps.append((agentaction,65))"
   ]
  },
  {
   "cell_type": "code",
   "execution_count": 66,
   "metadata": {},
   "outputs": [
    {
     "data": {
      "text/plain": [
       "AgentFinish(return_values={'output': '65'}, log='Final Answer: 65')"
      ]
     },
     "execution_count": 66,
     "metadata": {},
     "output_type": "execute_result"
    }
   ],
   "source": [
    "agentaction=chain.invoke({\n",
    "    \"input\": \"what is  sum of 6  and 7 multipled by 5\",\n",
    "    \"intermediate_steps\": intermediate_steps\n",
    "})\n",
    "agentaction"
   ]
  },
  {
   "cell_type": "code",
   "execution_count": 78,
   "metadata": {},
   "outputs": [
    {
     "name": "stdout",
     "output_type": "stream",
     "text": [
      "agent_step=AgentAction(tool='tavily_search_results_json', tool_input='Sivaprasad Valluru\\n', log='Thought: I should use the `tavily_search_results_json` tool to find information on Sivaprasad Valluru.\\n    Action: tavily_search_results_json\\n    Action Input: Sivaprasad Valluru\\n    ')\n",
      "tool_input='Sivaprasad Valluru'\n",
      " invoked the tool tool_name = 'tavily_search_results_json' on tool_input='Sivaprasad Valluru'. Result observation=[{'url': 'https://www.indiafilings.com/search/sivaprasad-valluru-din-08853173', 'content': 'SIVAPRASAD VALLURU bearing DIN number 08853173 is currently the director of HEAL FORCE INDIA PRIVATE LIMITED, ARTIZAN MEDITEK PRIVATE LIMITED.'}, {'url': 'https://www.lwww.in/home/about-us', 'content': 'Home About Self Paced Course Instructor Led Course Contact SivaPrasad Valluru is a instructor with 20 years of experince in IT . Now, he delivers corporate trainings. He got certified as a instructor from Mulesoft and Pivotal and has delivered many certified trainings. He spends a lot of time in understanding the frameworks and explores the internal workings. Since he knows most of the internals, he delivers training with confidence. While delivering trainings, he never uses high level jargons and presentations. Once you attend his training, you will be able to explain any concepts clearly and will answer any questions logically in interviews Advance Courses Want to talk to us reagrding any course or live training or corporate training requirement?'}, {'url': 'https://www.linkedin.com/in/sivaprasad-valluru-294b0528', 'content': 'Siva is a skilled Web Dynpro and Java developer, and doubled up as a NWDI administrator during the start of the project. His ability to work efficiently under'}, {'url': 'https://www.facebook.com/sivaprasad.valluru/', 'content': 'Siva Prasad Valluru is on Facebook. Join Facebook to connect with Siva Prasad Valluru ... Siva Prasad Valluru. . Lives in Bangalore, India. Photos. . Photos.'}, {'url': 'https://in.linkedin.com/in/siva-prasad-valluru-6b76b515', 'content': 'Professional Freelance Trainer in Mulesoft & Generative AI | Expertise in LangChain, Llama Index, LangGraph, CrewAI, OpenAI Swarm, OpenAI Assistant, and AutoGen'}]\n",
      "intermediate_steps intermediate_steps=[(AgentAction(tool='tavily_search_results_json', tool_input='Sivaprasad Valluru\\n', log='Thought: I should use the `tavily_search_results_json` tool to find information on Sivaprasad Valluru.\\n    Action: tavily_search_results_json\\n    Action Input: Sivaprasad Valluru\\n    '), \"[{'url': 'https://www.indiafilings.com/search/sivaprasad-valluru-din-08853173', 'content': 'SIVAPRASAD VALLURU bearing DIN number 08853173 is currently the director of HEAL FORCE INDIA PRIVATE LIMITED, ARTIZAN MEDITEK PRIVATE LIMITED.'}, {'url': 'https://www.lwww.in/home/about-us', 'content': 'Home About Self Paced Course Instructor Led Course Contact SivaPrasad Valluru is a instructor with 20 years of experince in IT . Now, he delivers corporate trainings. He got certified as a instructor from Mulesoft and Pivotal and has delivered many certified trainings. He spends a lot of time in understanding the frameworks and explores the internal workings. Since he knows most of the internals, he delivers training with confidence. While delivering trainings, he never uses high level jargons and presentations. Once you attend his training, you will be able to explain any concepts clearly and will answer any questions logically in interviews Advance Courses Want to talk to us reagrding any course or live training or corporate training requirement?'}, {'url': 'https://www.linkedin.com/in/sivaprasad-valluru-294b0528', 'content': 'Siva is a skilled Web Dynpro and Java developer, and doubled up as a NWDI administrator during the start of the project. His ability to work efficiently under'}, {'url': 'https://www.facebook.com/sivaprasad.valluru/', 'content': 'Siva Prasad Valluru is on Facebook. Join Facebook to connect with Siva Prasad Valluru ... Siva Prasad Valluru. . Lives in Bangalore, India. Photos. . Photos.'}, {'url': 'https://in.linkedin.com/in/siva-prasad-valluru-6b76b515', 'content': 'Professional Freelance Trainer in Mulesoft & Generative AI | Expertise in LangChain, Llama Index, LangGraph, CrewAI, OpenAI Swarm, OpenAI Assistant, and AutoGen'}]\")]\n",
      "agent_step=AgentFinish(return_values={'output': 'Sivaprasad Valluru is a director, IT instructor, and freelance trainer based in Bangalore, India.'}, log='I now know that Sivaprasad Valluru is a director of HEAL FORCE INDIA PRIVATE LIMITED and ARTIZAN MEDITEK PRIVATE LIMITED. He is also an experienced IT instructor with certifications from Mulesoft and Pivotal. He specializes in Web Dynpro and Java development and offers corporate trainings. Additionally, he freelances as a trainer in Mulesoft and Generative AI. He resides in Bangalore, India.\\nFinal Answer: Sivaprasad Valluru is a director, IT instructor, and freelance trainer based in Bangalore, India.')\n"
     ]
    }
   ],
   "source": [
    "from langchain.schema import AgentAction, AgentFinish\n",
    "\n",
    "agent_step = \"\"\n",
    "intermediate_steps=[]\n",
    "\n",
    "while not isinstance(agent_step, AgentFinish):\n",
    "  agent_step: Union[AgentAction, AgentFinish] = chain.invoke(\n",
    "            {\n",
    "                \"input\": \"Who is Sivaprasad valluru\",\n",
    "                \"intermediate_steps\": intermediate_steps,\n",
    "            }\n",
    "  )\n",
    "  print(f\"{agent_step=}\")\n",
    "  if isinstance(agent_step, AgentAction):\n",
    "    tool_name = agent_step.tool\n",
    "    tool_to_use = find_tool_by_name(tools, tool_name)\n",
    "    tool_input = agent_step.tool_input\n",
    "    tool_input=tool_input.split(\",\")\n",
    "    tool_input=[ input.strip()  for input in tool_input]\n",
    "\n",
    "    if(len(tool_input)==1):\n",
    "        tool_input=tool_input[0]\n",
    "\n",
    "    print(f\"{tool_input=}\")\n",
    "\n",
    "    observation = tool_to_use.invoke(tool_input)\n",
    "    print(f\" invoked the tool {tool_name = } on {tool_input=}. Result {observation=}\")\n",
    "    intermediate_steps.append((agent_step, str(observation)))\n",
    "    print(f\"intermediate_steps {intermediate_steps=}\")\n",
    "\n",
    "    if isinstance(agent_step, AgentFinish):\n",
    "          print(agent_step.return_values)\n",
    "  "
   ]
  },
  {
   "cell_type": "code",
   "execution_count": 32,
   "metadata": {},
   "outputs": [
    {
     "data": {
      "text/plain": [
       "PromptTemplate(input_variables=['agent_scratchpad', 'input', 'tool_names', 'tools'], input_types={}, partial_variables={}, metadata={'lc_hub_owner': 'hwchase17', 'lc_hub_repo': 'react', 'lc_hub_commit_hash': 'd15fe3c426f1c4b3f37c9198853e4a86e20c425ca7f4752ec0c9b0e97ca7ea4d'}, template='Answer the following questions as best you can. You have access to the following tools:\\n\\n{tools}\\n\\nUse the following format:\\n\\nQuestion: the input question you must answer\\nThought: you should always think about what to do\\nAction: the action to take, should be one of [{tool_names}]\\nAction Input: the input to the action\\nObservation: the result of the action\\n... (this Thought/Action/Action Input/Observation can repeat N times)\\nThought: I now know the final answer\\nFinal Answer: the final answer to the original input question\\n\\nBegin!\\n\\nQuestion: {input}\\nThought:{agent_scratchpad}')"
      ]
     },
     "execution_count": 32,
     "metadata": {},
     "output_type": "execute_result"
    }
   ],
   "source": [
    "from langchain import hub\n",
    "prompt = hub.pull(\"hwchase17/react\")\n",
    "\n",
    "prompt"
   ]
  },
  {
   "cell_type": "code",
   "execution_count": 35,
   "metadata": {},
   "outputs": [
    {
     "data": {
      "text/plain": [
       "{'input': 'tell me about Keerthana Jothi ramesh kumar',\n",
       " 'output': 'Keerthana Jothi Ramesh Kumar is a female chess player from India with a FIDE ID of 25640283 and an inactive standard rating of 1514.'}"
      ]
     },
     "execution_count": 35,
     "metadata": {},
     "output_type": "execute_result"
    }
   ],
   "source": [
    "from langchain.agents import create_react_agent,AgentExecutor\n",
    "\n",
    "llm= ChatOpenAI()\n",
    "\n",
    "agent=create_react_agent(llm=llm,prompt=prompt,tools=tools)\n",
    "\n",
    "agentexecutor=AgentExecutor(\n",
    "    agent=agent, tools=tools\n",
    ")\n",
    "response = agentexecutor.invoke({\"input\": \"tell me about Keerthana Jothi ramesh kumar\"})\n",
    "response"
   ]
  },
  {
   "cell_type": "code",
   "execution_count": 38,
   "metadata": {},
   "outputs": [
    {
     "name": "stdout",
     "output_type": "stream",
     "text": [
      "\n",
      "\n",
      "\u001b[1m> Entering new AgentExecutor chain...\u001b[0m\n",
      "\u001b[32;1m\u001b[1;3m\n",
      "Invoking: `tavily_search_results_json` with `{'query': 'Dhanush Duraipandian'}`\n",
      "\n",
      "\n",
      "\u001b[0m\u001b[36;1m\u001b[1;3m[{'url': 'https://www.tiktok.com/@duraipandian27/video/6820421372964064514', 'content': 'TikTok video from Durai Pandian (@duraipandian27): “”. original sound - Dhanush ..... balu.. - rng Balu❤️.'}, {'url': 'https://www.instagram.com/_d_pandi_/reel/CJ3OrEmjAe2/', 'content': 'Photo by Durai pandian on May 20, 2024.'}, {'url': 'https://coda.io/@kvaluent/pd176-gen-ai/gradebook-2', 'content': '87.14%. Anuvarshini S S. 54.29%. Ayush U. 77.14%. Balaharinath C. 57.14%. Burlagadda Sai Nikhil. 77.14%. Dhanush Duraipandian. 82.86%. Anirudh G. 71.43%. Gouri'}, {'url': 'https://www.linkedin.com/pub/dir/Dhanush/Durai?trk=public_profile_samename-see-all', 'content': '7Results for \"Dhanush Durai\" ; Planning and Cost control Manager at Kentz. Yemen. Kentz ; Attended GRD SCHOOL OF COMMERCE AND INTERNATIONAL BUSINESS (GRDSCIB).'}, {'url': 'https://in.linkedin.com/in/dhanushree-duraipandian-872414225', 'content': \"Education: Government College of Technology, Coimbatore · Location: Pollachi · 294 connections on LinkedIn. View Dhanushree Duraipandian's profile on\"}]\u001b[0m\u001b[32;1m\u001b[1;3mDhanush Duraipandian is associated with various social media platforms like TikTok and Instagram. It seems there are individuals with this name on different platforms. On TikTok, you can find a video by Durai Pandian with the username duraipandian27. Moreover, a person named Dhanush Duraipandian appears to have studied at the Government College of Technology in Coimbatore and has connections on LinkedIn. Additionally, another individual named Dhanush Duraipandian is mentioned in a document related to academic performance.\u001b[0m\n",
      "\n",
      "\u001b[1m> Finished chain.\u001b[0m\n"
     ]
    },
    {
     "data": {
      "text/plain": [
       "{'input': 'tell me about Dhanush Duraipandian',\n",
       " 'output': 'Dhanush Duraipandian is associated with various social media platforms like TikTok and Instagram. It seems there are individuals with this name on different platforms. On TikTok, you can find a video by Durai Pandian with the username duraipandian27. Moreover, a person named Dhanush Duraipandian appears to have studied at the Government College of Technology in Coimbatore and has connections on LinkedIn. Additionally, another individual named Dhanush Duraipandian is mentioned in a document related to academic performance.'}"
      ]
     },
     "execution_count": 38,
     "metadata": {},
     "output_type": "execute_result"
    }
   ],
   "source": [
    "from langchain.agents import  create_tool_calling_agent\n",
    "from langchain.prompts import ChatPromptTemplate,HumanMessagePromptTemplate,MessagesPlaceholder\n",
    "from langchain.schema import SystemMessage\n",
    "\n",
    "prompt = ChatPromptTemplate(\n",
    "    messages=[\n",
    "        SystemMessage(content=(\n",
    "            \"You are an AI .\"\n",
    "            \"You should not use tools parallelly \"\n",
    "            \"You should not make your own conclusions even if it is easy. instead use appropriate tools \"\n",
    "        )),\n",
    "\n",
    "        HumanMessagePromptTemplate.from_template(\"{input}\"),\n",
    "        MessagesPlaceholder(variable_name=\"agent_scratchpad\")\n",
    "    ]\n",
    ")\n",
    "\n",
    "agent = create_tool_calling_agent(llm=llm, tools=tools,prompt=prompt)\n",
    "\n",
    "\n",
    "agent_executor = AgentExecutor(\n",
    "    agent=agent,    verbose=True,    max_iterations=20,    tools=tools,)\n",
    "response = agent_executor.invoke({\"input\": \"tell me about Dhanush Duraipandian\"})\n",
    "response"
   ]
  },
  {
   "cell_type": "code",
   "execution_count": null,
   "metadata": {},
   "outputs": [],
   "source": []
  },
  {
   "cell_type": "code",
   "execution_count": 40,
   "metadata": {},
   "outputs": [
    {
     "name": "stdout",
     "output_type": "stream",
     "text": [
      "Page: Sachin Tendulkar\n",
      "Summary: Sachin Ramesh Tendulkar ( ; pronounced [sətɕin teːɳɖulkəɾ]; born 24 April 1973) is an Indian former international cricketer who captained the Indian national team. He is widely regarded as one of the greatest cricketers of all time, and is the holder of several world records, including being the all-time highest run-scorer in both ODI and Test cricket, receiving the most player of the match awards in international cricket, and being the only batsman to score 100 international centuries. Tendulkar was a Member of Parliament, Rajya Sabha by presidential nomination from 2012 to 2018. \n",
      "Tendulkar took up cricket at the age of eleven, made his Test match debut on 15 November 1989 against Pakistan in Karachi at the age of sixteen, and went on to represent Mumbai domestically and India internationally for over 24 years. In 2002, halfway through his career, Wisden ranked him the second-greatest Test batsman of all time, behind Don Bradman, and the second-greatest\n"
     ]
    }
   ],
   "source": [
    "\n",
    "from langchain_community.utilities import WikipediaAPIWrapper\n",
    "\n",
    "api_wrapper = WikipediaAPIWrapper(top_k_results=3, doc_content_chars_max=1000)\n",
    "\n",
    "print(api_wrapper.run(\"Sachin Tendulkar\"))"
   ]
  },
  {
   "cell_type": "code",
   "execution_count": 41,
   "metadata": {},
   "outputs": [
    {
     "data": {
      "text/plain": [
       "WikipediaQueryRun(name='wiki-tool', description='look up things in wikipedia', args_schema=<class '__main__.WikiInputs'>, return_direct=True, api_wrapper=WikipediaAPIWrapper(wiki_client=<module 'wikipedia' from 'c:\\\\prodapt\\\\workspace\\\\.venv\\\\Lib\\\\site-packages\\\\wikipedia\\\\__init__.py'>, top_k_results=3, lang='en', load_all_available_meta=False, doc_content_chars_max=1000))"
      ]
     },
     "execution_count": 41,
     "metadata": {},
     "output_type": "execute_result"
    }
   ],
   "source": [
    "from langchain_community.tools import WikipediaQueryRun\n",
    "from pydantic import BaseModel, Field\n",
    "#from langchain_core.pydantic_v1 import BaseModel, Field\n",
    "\n",
    "class WikiInputs(BaseModel):\n",
    "    \"\"\"Inputs to the wikipedia tool.\"\"\"\n",
    "\n",
    "    query: str = Field(\n",
    "        description=\"query to look up in Wikipedia, should be 3 or less words\"\n",
    "    )\n",
    "\n",
    "tool = WikipediaQueryRun(\n",
    "    name=\"wiki-tool\",\n",
    "    description=\"look up things in wikipedia\",\n",
    "    args_schema=WikiInputs,\n",
    "    api_wrapper=api_wrapper,\n",
    "    return_direct=True,\n",
    ")\n",
    "tool"
   ]
  },
  {
   "cell_type": "code",
   "execution_count": 2,
   "metadata": {},
   "outputs": [
    {
     "name": "stdout",
     "output_type": "stream",
     "text": [
      "['Siva Prasad Valluru. Professional Freelance Trainer in Mulesoft & Generative AI | Expertise in LangChain, Llama Index, LangGraph, CrewAI, OpenAI Swarm, OpenAI ...', \"Siva Prasad Valluru's Post. View profile for Siva Prasad Valluru. Siva Prasad Valluru. Professional Freelance Trainer in Mulesoft & Generative ...\", 'This paper describes an asymptomatic presentation of a foreign body in the oral mucosa which clinically appeared like a benign connective tissue tumor. Unusual ...', 'The book is divided into six parts or sections: (1) Chronology; (2) Placewise. Index; (3) General Index; (4) Statement of Fasts; (5) Statement ...', 'Traditionally, universities have been governed on a collegiate basis, focusing on developing knowledge both in the students attending and ...', 'REGISTRAR OF NEWSPAPER FOR INDIA. MINISTRY OF INFORMATION & BROADCASTING. GOVERNMENT OF INDIA. Page 2. Page 3. CONTENTS. Volume –II. Page No.', 'A hearty welcome to the University of Maryland, College Park. Congratulations on qualifying for the 26th edition of the North South Foundation Finals.', 'Foreign body aspiration in adult airways: therapeutic approach · PubMed Central. Hewlett, Justin C.; Rickman, Otis B.; Lentz, Robert J.; Prakash, Udaya B.', \"Lands to NTR Trust in All Districts. 82. 40. 508 Acres into MLA's Pocket. 83. 41. Gitam Land Grab in Vizag. 85. 42.\", 'The source of information for this Report is Annual Statements e-filed by publishers of registered periodicals as required under Section 19(D) ...']\n"
     ]
    }
   ],
   "source": [
    "from langchain_community.utilities import SerpAPIWrapper\n",
    "\n",
    "search = SerpAPIWrapper()\n",
    "print(search.run(\"tell about SivaPrasad Valluru  in 5 bullet points. I want only info about him \"))"
   ]
  },
  {
   "cell_type": "code",
   "execution_count": 43,
   "metadata": {},
   "outputs": [
    {
     "data": {
      "text/plain": [
       "[QuerySQLDatabaseTool(description=\"Input to this tool is a detailed and correct SQL query, output is a result from the database. If the query is not correct, an error message will be returned. If an error is returned, rewrite the query, check the query, and try again. If you encounter an issue with Unknown column 'xxxx' in 'field list', use sql_db_schema to query the correct table fields.\", db=<langchain_community.utilities.sql_database.SQLDatabase object at 0x00000216D8F77B30>),\n",
       " InfoSQLDatabaseTool(description='Input to this tool is a comma-separated list of tables, output is the schema and sample rows for those tables. Be sure that the tables actually exist by calling sql_db_list_tables first! Example Input: table1, table2, table3', db=<langchain_community.utilities.sql_database.SQLDatabase object at 0x00000216D8F77B30>),\n",
       " ListSQLDatabaseTool(db=<langchain_community.utilities.sql_database.SQLDatabase object at 0x00000216D8F77B30>),\n",
       " QuerySQLCheckerTool(description='Use this tool to double check if your query is correct before executing it. Always use this tool before executing a query with sql_db_query!', db=<langchain_community.utilities.sql_database.SQLDatabase object at 0x00000216D8F77B30>, llm=ChatOpenAI(client=<openai.resources.chat.completions.completions.Completions object at 0x00000216DBE5A690>, async_client=<openai.resources.chat.completions.completions.AsyncCompletions object at 0x00000216DB5EEBA0>, root_client=<openai.OpenAI object at 0x00000216DBE5AD20>, root_async_client=<openai.AsyncOpenAI object at 0x00000216DBE6B980>, model_kwargs={}, openai_api_key=SecretStr('**********')), llm_chain=LLMChain(verbose=False, prompt=PromptTemplate(input_variables=['dialect', 'query'], input_types={}, partial_variables={}, template='\\n{query}\\nDouble check the {dialect} query above for common mistakes, including:\\n- Using NOT IN with NULL values\\n- Using UNION when UNION ALL should have been used\\n- Using BETWEEN for exclusive ranges\\n- Data type mismatch in predicates\\n- Properly quoting identifiers\\n- Using the correct number of arguments for functions\\n- Casting to the correct data type\\n- Using the proper columns for joins\\n\\nIf there are any of the above mistakes, rewrite the query. If there are no mistakes, just reproduce the original query.\\n\\nOutput the final SQL query only.\\n\\nSQL Query: '), llm=ChatOpenAI(client=<openai.resources.chat.completions.completions.Completions object at 0x00000216DBE5A690>, async_client=<openai.resources.chat.completions.completions.AsyncCompletions object at 0x00000216DB5EEBA0>, root_client=<openai.OpenAI object at 0x00000216DBE5AD20>, root_async_client=<openai.AsyncOpenAI object at 0x00000216DBE6B980>, model_kwargs={}, openai_api_key=SecretStr('**********')), output_parser=StrOutputParser(), llm_kwargs={}))]"
      ]
     },
     "execution_count": 43,
     "metadata": {},
     "output_type": "execute_result"
    }
   ],
   "source": [
    "from langchain_community.agent_toolkits.sql.toolkit import SQLDatabaseToolkit\n",
    "from langchain_openai import ChatOpenAI\n",
    "from langchain.sql_database import SQLDatabase\n",
    "\n",
    "\n",
    "db = SQLDatabase.from_uri(\"sqlite:///Chinook_Sqlite.sqlite\")\n",
    "#print(db.get_usable_table_names())\n",
    "\n",
    "llm =  ChatOpenAI()\n",
    "\n",
    "toolkit = SQLDatabaseToolkit(db=db, llm=llm)\n",
    "toolkit.get_tools()"
   ]
  },
  {
   "cell_type": "code",
   "execution_count": null,
   "metadata": {},
   "outputs": [
    {
     "name": "stdout",
     "output_type": "stream",
     "text": [
      "\n",
      "\n",
      "\u001b[1m> Entering new AgentExecutor chain...\u001b[0m\n",
      "\u001b[32;1m\u001b[1;3m\n",
      "Invoking: `sql_db_query` with `{'query': 'SELECT artist_name, COUNT(album_id) AS total_albums FROM albums GROUP BY artist_name ORDER BY total_albums DESC LIMIT 1'}`\n",
      "\n",
      "\n",
      "\u001b[0m\u001b[36;1m\u001b[1;3mError: (sqlite3.OperationalError) no such table: albums\n",
      "[SQL: SELECT artist_name, COUNT(album_id) AS total_albums FROM albums GROUP BY artist_name ORDER BY total_albums DESC LIMIT 1]\n",
      "(Background on this error at: https://sqlalche.me/e/20/e3q8)\u001b[0m\u001b[32;1m\u001b[1;3m\n",
      "Invoking: `sql_db_list_tables` with `{}`\n",
      "\n",
      "\n",
      "\u001b[0m\u001b[38;5;200m\u001b[1;3mAlbum, Artist, Customer, Employee, Genre, Invoice, InvoiceLine, MediaType, Playlist, PlaylistTrack, Track\u001b[0m\u001b[32;1m\u001b[1;3m\n",
      "Invoking: `sql_db_query` with `{'query': 'SELECT artist.Name AS artist_name, COUNT(album.AlbumId) AS total_albums FROM artist JOIN album ON artist.ArtistId = album.ArtistId GROUP BY artist_name ORDER BY total_albums DESC LIMIT 1'}`\n",
      "\n",
      "\n",
      "\u001b[0m\u001b[36;1m\u001b[1;3m[('Iron Maiden', 21)]\u001b[0m\u001b[32;1m\u001b[1;3mThe artist \"Iron Maiden\" has acted in the maximum number of albums, which is 21.\u001b[0m\n",
      "\n",
      "\u001b[1m> Finished chain.\u001b[0m\n"
     ]
    }
   ],
   "source": [
    "from langchain.prompts import ChatPromptTemplate,HumanMessagePromptTemplate,MessagesPlaceholder\n",
    "from langchain.schema import SystemMessage\n",
    "from langchain.tools import tool\n",
    "from langchain.agents import AgentExecutor,create_tool_calling_agent\n",
    "\n",
    "prompt = ChatPromptTemplate(\n",
    "    messages=[\n",
    "        SystemMessage(content=(\n",
    "            \"\"\"You are an AI .You should not use tools parallelly \n",
    "            You should not make your own conclusions even if it is easy.\n",
    "              instead use appropriate tools \n",
    "              \n",
    "              IMPORTANT Rules:\n",
    "              Before generating query, make sure to get the database details like\n",
    "                table names,column name before generating query\n",
    "                Dont assume the query. \n",
    "                Verify the query for syntax errors\n",
    "              \n",
    "              \"\"\"\n",
    "        )),\n",
    "\n",
    "        HumanMessagePromptTemplate.from_template(\"{input}\"),\n",
    "        MessagesPlaceholder(variable_name=\"agent_scratchpad\")\n",
    "    ]\n",
    ")\n",
    "prompt\n",
    "\n",
    "agent = create_tool_calling_agent(llm=llm, tools=toolkit.get_tools(),prompt=prompt)\n",
    "\n",
    "agent_executor = AgentExecutor(\n",
    "    agent=agent,\n",
    "    verbose=True,\n",
    "    max_iterations=20,\n",
    "    tools=toolkit.get_tools()\n",
    "\n",
    "\n",
    ")\n",
    "\n",
    "response = agent_executor.invoke({\"input\": \"which artist acted in maximum albums\"})"
   ]
  }
 ],
 "metadata": {
  "kernelspec": {
   "display_name": ".venv",
   "language": "python",
   "name": "python3"
  },
  "language_info": {
   "codemirror_mode": {
    "name": "ipython",
    "version": 3
   },
   "file_extension": ".py",
   "mimetype": "text/x-python",
   "name": "python",
   "nbconvert_exporter": "python",
   "pygments_lexer": "ipython3",
   "version": "3.12.9"
  }
 },
 "nbformat": 4,
 "nbformat_minor": 2
}
