{
 "cells": [
  {
   "cell_type": "code",
   "execution_count": null,
   "metadata": {
    "colab": {
     "base_uri": "https://localhost:8080/"
    },
    "executionInfo": {
     "elapsed": 94800,
     "status": "ok",
     "timestamp": 1726471834643,
     "user": {
      "displayName": "SivaPrasad Valluru",
      "userId": "03440549206981602615"
     },
     "user_tz": -330
    },
    "id": "G35bn4xXF3jr",
    "outputId": "d03067df-f280-4e7a-88bf-0131de84299a"
   },
   "outputs": [],
   "source": [
    "pip install langchain_core langchain_openai langchain_chroma langchain_community langchain_experimental faiss-cpu pypdf langchainhub serpapi google-search-results gradio"
   ]
  },
  {
   "cell_type": "code",
   "execution_count": 1,
   "metadata": {
    "id": "ztLhSQcIpd8m"
   },
   "outputs": [
    {
     "data": {
      "text/plain": [
       "True"
      ]
     },
     "execution_count": 1,
     "metadata": {},
     "output_type": "execute_result"
    }
   ],
   "source": [
    "from dotenv import load_dotenv\n",
    "import os\n",
    "# Load environment variables from .env file\n",
    "load_dotenv()"
   ]
  },
  {
   "cell_type": "code",
   "execution_count": 2,
   "metadata": {
    "colab": {
     "base_uri": "https://localhost:8080/"
    },
    "executionInfo": {
     "elapsed": 1795,
     "status": "ok",
     "timestamp": 1726471916112,
     "user": {
      "displayName": "SivaPrasad Valluru",
      "userId": "03440549206981602615"
     },
     "user_tz": -330
    },
    "id": "pqiWxfkrGsBe",
    "outputId": "b320591e-c9d1-483e-a6bb-58aa56e5bb4f"
   },
   "outputs": [
    {
     "name": "stderr",
     "output_type": "stream",
     "text": [
      "c:\\Users\\Dell\\Langchain\\venv\\Lib\\site-packages\\langsmith\\client.py:253: LangSmithMissingAPIKeyWarning: API key must be provided when using hosted LangSmith API\n",
      "  warnings.warn(\n"
     ]
    }
   ],
   "source": [
    "from langchain import hub\n",
    "\n",
    "# instructions = \"\"\"You are an agent designed to write and execute python code to answer questions.\n",
    "#     You have access to a python REPL, which you can use to execute python code.\n",
    "#     If you get an error, debug your code and try again.\n",
    "#     Only use the output of your code to answer the question.\n",
    "#     You might know the answer without running any code, but you should still run the code to get the answer.\n",
    "#     If it does not seem like you can write code to answer the question, just return \"I don't know\" as the answer.\n",
    "#     \"\"\"\n",
    "#base_prompt = hub.pull(\"langchain-ai/react-agent-template\")\n",
    "prompt = hub.pull(\"hwchase17/react\")\n",
    "\n",
    "#prompt = base_prompt.partial(instructions=instructions)\n",
    "\n",
    "#print(base_prompt)\n",
    "#print(prompt)"
   ]
  },
  {
   "cell_type": "code",
   "execution_count": null,
   "metadata": {
    "colab": {
     "base_uri": "https://localhost:8080/"
    },
    "executionInfo": {
     "elapsed": 3752,
     "status": "ok",
     "timestamp": 1725162249157,
     "user": {
      "displayName": "SivaPrasad Valluru",
      "userId": "03440549206981602615"
     },
     "user_tz": -330
    },
    "id": "1xGqufyqpd8n",
    "outputId": "7b112206-72b1-4dde-ebb9-11c258f17fe6"
   },
   "outputs": [],
   "source": [
    "pip install tabulate"
   ]
  },
  {
   "cell_type": "code",
   "execution_count": 3,
   "metadata": {
    "executionInfo": {
     "elapsed": 1964,
     "status": "ok",
     "timestamp": 1726472068595,
     "user": {
      "displayName": "SivaPrasad Valluru",
      "userId": "03440549206981602615"
     },
     "user_tz": -330
    },
    "id": "M9rx6V-HHvzL"
   },
   "outputs": [],
   "source": [
    "from langchain.agents import create_react_agent, AgentExecutor\n",
    "from langchain_experimental.tools import PythonREPLTool\n",
    "from langchain_openai import ChatOpenAI\n",
    "from langchain_experimental.agents.agent_toolkits import create_csv_agent\n",
    "\n",
    "\n",
    "tools = [PythonREPLTool()]\n",
    "\n",
    "\n",
    "python_agent = create_react_agent(\n",
    "        prompt=prompt,\n",
    "        llm=ChatOpenAI(temperature=0),\n",
    "        tools=tools,\n",
    "    )\n",
    "csv_agent = create_csv_agent(\n",
    "        llm=ChatOpenAI(temperature=0),\n",
    "        path=\"episode_info.csv\",\n",
    "        verbose=True,\n",
    "        allow_dangerous_code=True\n",
    "    )"
   ]
  },
  {
   "cell_type": "code",
   "execution_count": 8,
   "metadata": {
    "id": "Jj5tRTtPKo9K"
   },
   "outputs": [
    {
     "name": "stdout",
     "output_type": "stream",
     "text": [
      "Collecting qrcode\n",
      "  Using cached qrcode-8.0-py3-none-any.whl.metadata (17 kB)\n",
      "Requirement already satisfied: colorama in c:\\2025\\workspace\\.venv\\lib\\site-packages (from qrcode) (0.4.6)\n",
      "Using cached qrcode-8.0-py3-none-any.whl (45 kB)\n",
      "Installing collected packages: qrcode\n",
      "Successfully installed qrcode-8.0\n",
      "Note: you may need to restart the kernel to use updated packages.\n"
     ]
    }
   ],
   "source": [
    "pip install qrcode"
   ]
  },
  {
   "cell_type": "code",
   "execution_count": 4,
   "metadata": {
    "colab": {
     "base_uri": "https://localhost:8080/"
    },
    "executionInfo": {
     "elapsed": 2600,
     "status": "ok",
     "timestamp": 1726472073963,
     "user": {
      "displayName": "SivaPrasad Valluru",
      "userId": "03440549206981602615"
     },
     "user_tz": -330
    },
    "id": "8DpckOiHISvb",
    "outputId": "b6730da1-d3c9-4d99-e0b6-23736d9fe8c9"
   },
   "outputs": [
    {
     "name": "stdout",
     "output_type": "stream",
     "text": [
      "\n",
      "\n",
      "\u001b[1m> Entering new AgentExecutor chain...\u001b[0m\n"
     ]
    },
    {
     "name": "stderr",
     "output_type": "stream",
     "text": [
      "Python REPL can execute arbitrary code. Use with caution.\n"
     ]
    },
    {
     "name": "stdout",
     "output_type": "stream",
     "text": [
      "\u001b[32;1m\u001b[1;3mI need to use the qrcode package in Python to generate QR codes that point to the specified URL.\n",
      "Action: Python_REPL\n",
      "Action Input: \n",
      "```python\n",
      "import qrcode\n",
      "\n",
      "# Generate QR code for the YouTube channel URL\n",
      "url = \"https://www.youtube.com/@zerotosiva\"\n",
      "qr = qrcode.QRCode(\n",
      "    version=1,\n",
      "    error_correction=qrcode.constants.ERROR_CORRECT_L,\n",
      "    box_size=10,\n",
      "    border=4,\n",
      ")\n",
      "qr.add_data(url)\n",
      "qr.make(fit=True)\n",
      "\n",
      "# Save the QR code as an image file\n",
      "img = qr.make_image(fill_color=\"black\", back_color=\"white\")\n",
      "img.save(\"youtube_qr.png\")\n",
      "```\u001b[0m\u001b[36;1m\u001b[1;3m\u001b[0m\u001b[32;1m\u001b[1;3mI need to generate another QR code for the same URL and save it as a different file.\n",
      "Action: Python_REPL\n",
      "Action Input: \n",
      "```python\n",
      "# Generate another QR code for the YouTube channel URL\n",
      "qr2 = qrcode.QRCode(\n",
      "    version=1,\n",
      "    error_correction=qrcode.constants.ERROR_CORRECT_L,\n",
      "    box_size=10,\n",
      "    border=4,\n",
      ")\n",
      "qr2.add_data(url)\n",
      "qr2.make(fit=True)\n",
      "\n",
      "# Save the second QR code as an image file\n",
      "img2 = qr2.make_image(fill_color=\"black\", back_color=\"white\")\n",
      "img2.save(\"youtube_qr2.png\")\n",
      "```\u001b[0m\u001b[36;1m\u001b[1;3m\u001b[0m\u001b[32;1m\u001b[1;3mI have successfully generated and saved 2 QR codes pointing to the specified URL.\n",
      "Final Answer: 2 QR codes pointing to https://www.youtube.com/@zerotosiva have been generated and saved in the current working directory.\u001b[0m\n",
      "\n",
      "\u001b[1m> Finished chain.\u001b[0m\n"
     ]
    },
    {
     "data": {
      "text/plain": [
       "{'input': 'generate and save in current working directory 2 QRcodes\\n                                that point to https://www.youtube.com/@zerotosiva, you have qrcode package installed already',\n",
       " 'output': '2 QR codes pointing to https://www.youtube.com/@zerotosiva have been generated and saved in the current working directory.'}"
      ]
     },
     "execution_count": 4,
     "metadata": {},
     "output_type": "execute_result"
    }
   ],
   "source": [
    "agent_executor = AgentExecutor(agent=python_agent, tools=tools, verbose=True)\n",
    "agent_executor.invoke(\n",
    "        input={\n",
    "            \"input\": \"\"\"generate and save in current working directory 2 QRcodes\n",
    "                                that point to https://www.youtube.com/@zerotosiva, you have qrcode package installed already\"\"\"\n",
    "        }\n",
    "    )"
   ]
  },
  {
   "cell_type": "code",
   "execution_count": 5,
   "metadata": {
    "id": "0vTkTE4DSobY"
   },
   "outputs": [
    {
     "name": "stdout",
     "output_type": "stream",
     "text": [
      "\n",
      "\n",
      "\u001b[1m> Entering new AgentExecutor chain...\u001b[0m\n",
      "\u001b[32;1m\u001b[1;3mThought: I can find the number of columns in the dataframe by checking the shape attribute.\n",
      "Action: python_repl_ast\n",
      "Action Input: df.shape[1]\u001b[0m\u001b[36;1m\u001b[1;3m8\u001b[0m\u001b[32;1m\u001b[1;3mI now know the final answer\n",
      "Final Answer: There are 8 columns in the file episode_info.csv.\u001b[0m\n",
      "\n",
      "\u001b[1m> Finished chain.\u001b[0m\n"
     ]
    },
    {
     "data": {
      "text/plain": [
       "{'input': 'how many columns are there in file episode_info.csv',\n",
       " 'output': 'There are 8 columns in the file episode_info.csv.'}"
      ]
     },
     "execution_count": 5,
     "metadata": {},
     "output_type": "execute_result"
    }
   ],
   "source": [
    "csv_agent.invoke(\n",
    "        input={\"input\": \"how many columns are there in file episode_info.csv\"}\n",
    "    )"
   ]
  },
  {
   "cell_type": "code",
   "execution_count": null,
   "metadata": {},
   "outputs": [],
   "source": []
  }
 ],
 "metadata": {
  "colab": {
   "provenance": []
  },
  "kernelspec": {
   "display_name": "venv",
   "language": "python",
   "name": "python3"
  },
  "language_info": {
   "codemirror_mode": {
    "name": "ipython",
    "version": 3
   },
   "file_extension": ".py",
   "mimetype": "text/x-python",
   "name": "python",
   "nbconvert_exporter": "python",
   "pygments_lexer": "ipython3",
   "version": "3.11.4"
  }
 },
 "nbformat": 4,
 "nbformat_minor": 0
}
