{
 "cells": [
  {
   "cell_type": "markdown",
   "metadata": {
    "id": "nn3P78iQSx7M"
   },
   "source": [
    "# In this lab, you will understand how to use vector stores and RAG"
   ]
  },
  {
   "cell_type": "markdown",
   "metadata": {
    "id": "UBR_pYFrQ-6q"
   },
   "source": [
    "**STORING DOCUMENTS IN CHROMA**"
   ]
  },
  {
   "cell_type": "code",
   "execution_count": null,
   "metadata": {
    "id": "Lvui4q2yRj1n"
   },
   "outputs": [],
   "source": [
    "pip install langchain-huggingface  langchain_core langchain_openai langchain_chroma langchain_community faiss-cpu pypdf gradio langsmith"
   ]
  },
  {
   "cell_type": "markdown",
   "metadata": {
    "id": "1a1NdNFWSx7R"
   },
   "source": [
    "If you are using Jupyter notebook, follow the below instructions. Else skip this step and go to next step\n",
    "\n",
    "**Open .env file in this folder and observe that we have configured OPENAI_API_KEY. Replace it with your own key or key given by me**\n",
    "\n",
    "The Code in the below cell will load the .env file and set environment variables.\n",
    "\n",
    "**Write the code in the below cell and execute it**"
   ]
  },
  {
   "cell_type": "code",
   "execution_count": 1,
   "metadata": {
    "colab": {
     "base_uri": "https://localhost:8080/"
    },
    "executionInfo": {
     "elapsed": 16,
     "status": "ok",
     "timestamp": 1732888786200,
     "user": {
      "displayName": "SivaPrasad Valluru",
      "userId": "03440549206981602615"
     },
     "user_tz": -330
    },
    "id": "qjTVbkyGQhAI",
    "outputId": "6156a0a3-5b02-445e-b906-b22375e76cb4"
   },
   "outputs": [
    {
     "data": {
      "text/plain": [
       "True"
      ]
     },
     "execution_count": 1,
     "metadata": {},
     "output_type": "execute_result"
    }
   ],
   "source": [
    "\n",
    "from dotenv import load_dotenv\n",
    "\n",
    "load_dotenv()"
   ]
  },
  {
   "cell_type": "markdown",
   "metadata": {
    "id": "R2uaTSDMSx7T"
   },
   "source": [
    "**Creating Documents manually**\n",
    "\n",
    " **Document**  represents a unit of text and associated metadata.\n",
    "\n",
    " It has two attributes:\n",
    "\n",
    "**pagecontent** string representing the content\n",
    "\n",
    "**metadata** a dict containing arbitrary metadata."
   ]
  },
  {
   "cell_type": "code",
   "execution_count": 12,
   "metadata": {
    "id": "JozLF9M_SOyX"
   },
   "outputs": [],
   "source": [
    "from langchain_core.documents import Document\n",
    "\n",
    "\n",
    "\n",
    "documents = [\n",
    "    Document(\n",
    "        page_content=\"A bunch of scientists bring back dinosaurs and mayhem breaks loose\",\n",
    "        metadata={\"year\": 1993, \"rating\": 7.7, \"genre\": \"science fiction\"},\n",
    "    ),\n",
    "    Document(\n",
    "        page_content=\"Leo DiCaprio gets lost in a dream within a dream within a dream within a ...\",\n",
    "        metadata={\"year\": 2010, \"director\": \"Christopher Nolan\", \"rating\": 8.2},\n",
    "    ),\n",
    "    Document(\n",
    "        page_content=\"A psychologist / detective gets lost in a series of dreams within dreams within dreams and Inception reused the idea\",\n",
    "        metadata={\"year\": 2006, \"director\": \"Satoshi Kon\", \"rating\": 8.6},\n",
    "    ),\n",
    "    Document(\n",
    "        page_content=\"A bunch of normal-sized women are supremely wholesome and some men pine after them\",\n",
    "        metadata={\"year\": 2019, \"director\": \"Greta Gerwig\", \"rating\": 8.3},\n",
    "    ),\n",
    "    Document(\n",
    "        page_content=\"Toys come alive and have a blast doing so\",\n",
    "        metadata={\"year\": 1995, \"genre\": \"animated\"},\n",
    "    ),\n",
    "    Document(\n",
    "        page_content=\"Three men walk into the Zone, three men walk out of the Zone\",\n",
    "        metadata={\n",
    "            \"year\": 1979,\n",
    "            \"director\": \"Andrei Tarkovsky\",\n",
    "            \"genre\": \"thriller\",\n",
    "            \"rating\": 9.9,\n",
    "        },\n",
    "    ),\n",
    "]\n"
   ]
  },
  {
   "cell_type": "markdown",
   "metadata": {
    "id": "fIGxN7ZESXVO"
   },
   "source": [
    "# **Creating  a vector store(Chroma) and Persisting Documents using OpenAIEmbeddings**"
   ]
  },
  {
   "cell_type": "markdown",
   "metadata": {
    "id": "ADpNyNTtSx7U"
   },
   "source": [
    "**Chroma is a AI-native open-source vector database**\n",
    "\n",
    "Chroma runs in various modes:\n",
    "\n",
    "**in-memory**\n",
    "\n",
    "**in-memory with persistance**  - in a script or notebook and save/load to disk\n",
    "\n",
    "**in a docker container** -- as a server running your local machine or in the cloud."
   ]
  },
  {
   "cell_type": "markdown",
   "metadata": {
    "id": "Gmbf5BGLSx7U"
   },
   "source": [
    "Below code creates a vectorstore from the given documents and persists data in given directory.\n",
    "\n",
    "Execute the below code and observe that a directory with name chromadb1 is created"
   ]
  },
  {
   "cell_type": "code",
   "execution_count": 13,
   "metadata": {
    "id": "ZmVj9G7fST62"
   },
   "outputs": [],
   "source": [
    "from langchain_chroma import Chroma\n",
    "from langchain_openai import OpenAIEmbeddings\n",
    "\n",
    "from langchain_huggingface.embeddings import HuggingFaceEmbeddings\n",
    "\n",
    "embeddings = OpenAIEmbeddings()\n",
    "\n",
    "# embeddings= HuggingFaceEmbeddings()\n",
    "\n",
    "vectorstore = Chroma.from_documents(\n",
    "    documents, embedding=embeddings , persist_directory=\"chromadb4\"\n",
    ")"
   ]
  },
  {
   "cell_type": "markdown",
   "metadata": {
    "id": "LvbLnFPRqI9C"
   },
   "source": [
    "**Let us understand how to create a vector store using the persist_directory**"
   ]
  },
  {
   "cell_type": "code",
   "execution_count": 14,
   "metadata": {
    "id": "N50WUupdqXoy"
   },
   "outputs": [],
   "source": [
    "vectorstore = Chroma(\n",
    "    persist_directory=\"chromadb4\", embedding_function=embeddings\n",
    ")"
   ]
  },
  {
   "cell_type": "markdown",
   "metadata": {
    "id": "M6ZKX6cdrG4B"
   },
   "source": [
    "**Using Vector Store as a retriever**\n",
    "\n",
    "LangChain VectorStore objects do not subclass Runnable\n",
    "LangChain Retrievers are Runnables. So, we can use them in chains in LCEL\n",
    "\n",
    "Vectorstores implement an **as_retriever** method that will generate a Retriever, specifically a **VectorStoreRetriever**\n",
    "\n",
    "Below code shows how to get a retriever from vectorstore object\n",
    "see the documentation at (https://api.python.langchain.com/en/latest/vectorstores/langchain_community.vectorstores.chroma.Chroma.html#langchain_community.vectorstores.chroma.Chroma.as_retriever)"
   ]
  },
  {
   "cell_type": "code",
   "execution_count": 15,
   "metadata": {
    "id": "AnXMQRBprFBo"
   },
   "outputs": [
    {
     "data": {
      "text/plain": [
       "[Document(id='1591b4fe-6d73-419f-b1e1-08c3e0ff6ae3', metadata={'director': 'Satoshi Kon', 'rating': 8.6, 'year': 2006}, page_content='A psychologist / detective gets lost in a series of dreams within dreams within dreams and Inception reused the idea')]"
      ]
     },
     "execution_count": 15,
     "metadata": {},
     "output_type": "execute_result"
    }
   ],
   "source": [
    "retriever = vectorstore.as_retriever(\n",
    "    search_type=\"similarity\",  # mmr or similarity_score_threshold\n",
    "    search_kwargs={\"k\": 1},\n",
    ")\n",
    "\n",
    "retriever.invoke(\"tell me about movie directed by Satoshi Kon\")\n",
    "\n",
    "#result4 = retriever.batch([\"Scientist\",\"toys\"])\n",
    "#print(result4)"
   ]
  },
  {
   "cell_type": "markdown",
   "metadata": {
    "id": "unAGEHz5uEY4"
   },
   "source": [
    "## Now let us see how to load a PDF into vector store and persist it.  This time we will use FAISS\n",
    "\n",
    " We will be using PyPdfLoader to load documents from pdf.\n",
    "\n",
    " There many document loaders available. See (https://api.python.langchain.com/en/latest/community_api_reference.html#module-langchain_community.document_loaders)\n",
    "\n",
    "<font color=\"red\"> **Before executing below code, travel.pdf  given to u**\n",
    "\n",
    "\n"
   ]
  },
  {
   "cell_type": "code",
   "execution_count": 16,
   "metadata": {
    "executionInfo": {
     "elapsed": 2765,
     "status": "ok",
     "timestamp": 1737019902619,
     "user": {
      "displayName": "SivaPrasad Valluru",
      "userId": "03440549206981602615"
     },
     "user_tz": -330
    },
    "id": "wx8iU3X5uUEY"
   },
   "outputs": [],
   "source": [
    "\n",
    "from langchain_community.document_loaders.pdf import PyPDFLoader\n",
    "from langchain.text_splitter import CharacterTextSplitter\n",
    "\n",
    "\n",
    "#loader = PyPDFLoader(file_path=\"drive/MyDrive/Colab Notebooks/ds-book.pdf\")\n",
    "loader = PyPDFLoader(file_path=\"travel-policy.pdf\")\n",
    "documents = loader.load()\n"
   ]
  },
  {
   "cell_type": "code",
   "execution_count": 17,
   "metadata": {
    "colab": {
     "base_uri": "https://localhost:8080/"
    },
    "executionInfo": {
     "elapsed": 1554,
     "status": "ok",
     "timestamp": 1737019927008,
     "user": {
      "displayName": "SivaPrasad Valluru",
      "userId": "03440549206981602615"
     },
     "user_tz": -330
    },
    "id": "yL2OMQJOdGG0",
    "outputId": "9cb90059-413c-4bd7-de26-5ba59756dbb2"
   },
   "outputs": [
    {
     "data": {
      "text/plain": [
       "Document(metadata={'producer': 'Skia/PDF m121 Google Docs Renderer', 'creator': 'PyPDF', 'creationdate': '', 'title': 'Corporate Travel Policy', 'source': 'travel-policy.pdf', 'total_pages': 4, 'page': 1, 'page_label': '2'}, page_content='○ Taxis:Reimbursableonlywithpre-approvalforspecificcircumstances.●● Rentalcars:○ Economyorcompactclassisrequired.○ Mileageallowanceof$0.50permile.○ Gasandtollsarereimbursablebasedonreceipts.●\\nAccommodation:\\n● Company-approvedhotels:Selectfromapre-selectedlistofhotelswithinthefollowingbudgetguidelines:○ Majorcities:$150-200pernight○ Smallercities/towns:$100-150pernight●● Sharedaccommodations:Encouragesharedaccommodationsformulti-persontripstomaximizecostsavings.● Mealperdiems:Followestablishedperdiemratesformealsinsteadofitemizedexpenseclaims:○ Breakfast:$15○ Lunch:$20○ Dinner:$30●\\nOtherExpenses:\\n● Businessmeals:○ Onlyreimbursablewhenaccompaniedbyaclientorcolleague.○ Maximum$50perpersonpermeal.○ Alcoholicbeveragesnotreimbursable.●')"
      ]
     },
     "execution_count": 17,
     "metadata": {},
     "output_type": "execute_result"
    }
   ],
   "source": [
    "documents[1]"
   ]
  },
  {
   "cell_type": "markdown",
   "metadata": {
    "id": "GmbaShzJSx7W"
   },
   "source": [
    "**After all documents are loaded, we have to split them into chunks.**\n",
    "\n",
    "**Observe the below code and understand how we are splitting documents in to chunks**"
   ]
  },
  {
   "cell_type": "code",
   "execution_count": 18,
   "metadata": {
    "executionInfo": {
     "elapsed": 578,
     "status": "ok",
     "timestamp": 1737019992681,
     "user": {
      "displayName": "SivaPrasad Valluru",
      "userId": "03440549206981602615"
     },
     "user_tz": -330
    },
    "id": "WB_A2yWNSx7W"
   },
   "outputs": [
    {
     "name": "stderr",
     "output_type": "stream",
     "text": [
      "Created a chunk of size 667, which is longer than the specified 500\n"
     ]
    }
   ],
   "source": [
    "text_splitter = CharacterTextSplitter(chunk_size=500, chunk_overlap=50, separator=\"\\n\")\n",
    "docs = text_splitter.split_documents(documents=documents)"
   ]
  },
  {
   "cell_type": "markdown",
   "metadata": {
    "id": "GmbaShzJSx7W"
   },
   "source": [
    "**Observe the below code and understand how we are using **FAISS** to create vector store and save the documents**\n",
    "\n",
    "**Execute the below code in a cell**"
   ]
  },
  {
   "cell_type": "code",
   "execution_count": 21,
   "metadata": {
    "id": "eC0K0MMSSx7W"
   },
   "outputs": [],
   "source": [
    "from langchain_community.vectorstores import FAISS\n",
    "from langchain_openai.embeddings import OpenAIEmbeddings\n",
    "from langchain_huggingface.embeddings import HuggingFaceEmbeddings\n",
    "\n",
    "embeddings = OpenAIEmbeddings()\n",
    "\n",
    "# embeddings= HuggingFaceEmbeddings()\n",
    "\n",
    "vectorstore = FAISS.from_documents(docs, embeddings)\n",
    "vectorstore.save_local(\"faiss_store1\")"
   ]
  },
  {
   "cell_type": "markdown",
   "metadata": {
    "id": "bZ2zBlzcsa_4"
   },
   "source": [
    "**Creating a Retrieval Chain using Vector Store as retriever**\n",
    "\n",
    "see the below code and understand how we are creating a retrieval chain using vector store as retirver\n",
    "\n",
    "Execute the below code to  create a chain"
   ]
  },
  {
   "cell_type": "code",
   "execution_count": 22,
   "metadata": {
    "id": "R-hInDt-sYhh"
   },
   "outputs": [
    {
     "name": "stdout",
     "output_type": "stream",
     "text": [
      "bound=RunnableAssign(mapper={\n",
      "  context: RunnableBinding(bound=RunnableLambda(lambda x: x['input'])\n",
      "           | VectorStoreRetriever(tags=['FAISS', 'OpenAIEmbeddings'], vectorstore=<langchain_community.vectorstores.faiss.FAISS object at 0x0000024479B9F150>, search_kwargs={'k': 3}), kwargs={}, config={'run_name': 'retrieve_documents'}, config_factories=[])\n",
      "})\n",
      "| RunnableAssign(mapper={\n",
      "    answer: RunnableBinding(bound=RunnableBinding(bound=RunnableAssign(mapper={\n",
      "              context: RunnableLambda(format_docs)\n",
      "            }), kwargs={}, config={'run_name': 'format_inputs'}, config_factories=[])\n",
      "            | ChatPromptTemplate(input_variables=['context', 'input'], input_types={}, partial_variables={}, messages=[HumanMessagePromptTemplate(prompt=PromptTemplate(input_variables=['context', 'input'], input_types={}, partial_variables={}, template='\\n        Answer this question using the provided context only.\\n        If the information is not available in the context, just reply with \"i dont know\"\\n        {input}\\n        Context:\\n        {context}\\n        '), additional_kwargs={})])\n",
      "            | ChatOpenAI(client=<openai.resources.chat.completions.completions.Completions object at 0x0000024479C36050>, async_client=<openai.resources.chat.completions.completions.AsyncCompletions object at 0x0000024479B7A110>, root_client=<openai.OpenAI object at 0x000002443EA7A950>, root_async_client=<openai.AsyncOpenAI object at 0x0000024479C36010>, model_kwargs={}, openai_api_key=SecretStr('**********'))\n",
      "            | StrOutputParser(), kwargs={}, config={'run_name': 'stuff_documents_chain'}, config_factories=[])\n",
      "  }) kwargs={} config={'run_name': 'retrieval_chain'} config_factories=[]\n"
     ]
    }
   ],
   "source": [
    "from langchain_core.prompts import ChatPromptTemplate\n",
    "from langchain_core.runnables import RunnablePassthrough\n",
    "from langchain_openai import ChatOpenAI\n",
    "from langchain.chains.combine_documents.stuff import create_stuff_documents_chain\n",
    "from langchain.chains.retrieval import create_retrieval_chain\n",
    "\n",
    "vectorstore = FAISS.load_local(\n",
    "    \"faiss_store1\", embeddings=embeddings, allow_dangerous_deserialization=True\n",
    ")\n",
    "\n",
    "retriever = vectorstore.as_retriever(\n",
    "    search_type=\"similarity\",  # mmr or similarity_score_threshold\n",
    "    search_kwargs={\"k\": 3},\n",
    ")\n",
    "message = \"\"\"\n",
    "        Answer this question using the provided context only.\n",
    "        If the information is not available in the context, just reply with \"i dont know\"\n",
    "        {input}\n",
    "        Context:\n",
    "        {context}\n",
    "        \"\"\"\n",
    "prompt = ChatPromptTemplate.from_messages(\n",
    "    [(\"human\", message)],\n",
    ")\n",
    "llm = ChatOpenAI()\n",
    "question_answer_chain = create_stuff_documents_chain(llm, prompt)\n",
    "#print(question_answer_chain)\n",
    "rag_chain = create_retrieval_chain(retriever, question_answer_chain)\n",
    "print(rag_chain)\n",
    "\n",
    "# rag_chain = {\"context\": retriever, \"question\": RunnablePassthrough()} | prompt | llm\n",
    "# rag_chain"
   ]
  },
  {
   "cell_type": "markdown",
   "metadata": {
    "id": "etN1l7Eont7Q"
   },
   "source": [
    "**<font color=\"red\"> Understand about create_map_reduce_documents_chain,create_refine_documents_chain,create_map_rerank_documents_chain.  Better u chat gpt to get summary of usecases,usage,etc**"
   ]
  },
  {
   "cell_type": "markdown",
   "metadata": {
    "id": "1aqjXSz1th-G"
   },
   "source": [
    "**Invoking Retrieval chain**\n",
    "\n",
    "Execute the below code to invoke the chain"
   ]
  },
  {
   "cell_type": "code",
   "execution_count": 23,
   "metadata": {
    "id": "DAlL5W3etvay"
   },
   "outputs": [
    {
     "name": "stdout",
     "output_type": "stream",
     "text": [
      "{'input': 'tell me about all the reimbursement policies', 'context': [Document(id='0ea570be-9746-4bc3-a26e-8e7c81b15556', metadata={'producer': 'Skia/PDF m121 Google Docs Renderer', 'creator': 'PyPDF', 'creationdate': '', 'title': 'Corporate Travel Policy', 'source': 'travel-policy.pdf', 'total_pages': 4, 'page': 1, 'page_label': '2'}, page_content='○ Taxis:Reimbursableonlywithpre-approvalforspecificcircumstances.●● Rentalcars:○ Economyorcompactclassisrequired.○ Mileageallowanceof$0.50permile.○ Gasandtollsarereimbursablebasedonreceipts.●\\nAccommodation:'), Document(id='a4097bce-2ec2-485d-a0dc-23ac0d665b38', metadata={'producer': 'Skia/PDF m121 Google Docs Renderer', 'creator': 'PyPDF', 'creationdate': '', 'title': 'Corporate Travel Policy', 'source': 'travel-policy.pdf', 'total_pages': 4, 'page': 2, 'page_label': '3'}, page_content='ReportingandReimbursement:\\n● Submitexpensereportspromptly:Submitdetailedexpensereportswithin5businessdaysafterthetripthroughthedesignatedcompanysystem.● Maintainoriginalreceipts:Provideoriginalreceiptsforallclaimedexpenses.● Non-reimbursableexpenses:Beawareofexpensesnotcoveredbythetravelpolicy, suchas:○ Personalpurchases○ Latefees○ Upgradesnotpre-approved○ Mini-barcharges○ Roomservicefees●\\nAdditionalConsiderations:'), Document(id='536f3cda-8ef9-4af4-b2f6-078ae852887e', metadata={'producer': 'Skia/PDF m121 Google Docs Renderer', 'creator': 'PyPDF', 'creationdate': '', 'title': 'Corporate Travel Policy', 'source': 'travel-policy.pdf', 'total_pages': 4, 'page': 0, 'page_label': '1'}, page_content='● Airfare:○ Domesticflights:Economyclassisrequired.Ticketsexceeding$500requirepre-approvalfromadepartmenthead.○ Internationalflights:Economyorcoachclassisrequired.Ticketsexceeding$1,000requirepre-approvalfromadepartmentheadand/orseniormanagement.●● Groundtransportation:○ Ridesharing:**Reimbursableupto$50perday, withUberPoolorLyftLinepreferred.○ Publictransportation:**Reimbursablebasedonactualcosts,withamaximumof$20perday.○ Inter-citybus:**Reimbursablebasedonactualcosts,withamaximumof$100pertrip.')], 'answer': 'The reimbursement policies for taxis require pre-approval for specific circumstances. Rental cars must be in the economy or compact class, with a mileage allowance of $0.50 per mile. Gas and tolls are reimbursable based on receipts. For ground transportation, ridesharing is reimbursable up to $50 per day with Uber Pool or Lyft Line preferred, public transportation costs are reimbursable based on actual costs with a maximum of $20 per day, and inter-city bus expenses are reimbursable based on actual costs with a maximum of $100 per trip.'}\n",
      "The reimbursement policies for taxis require pre-approval for specific circumstances. Rental cars must be in the economy or compact class, with a mileage allowance of $0.50 per mile. Gas and tolls are reimbursable based on receipts. For ground transportation, ridesharing is reimbursable up to $50 per day with Uber Pool or Lyft Line preferred, public transportation costs are reimbursable based on actual costs with a maximum of $20 per day, and inter-city bus expenses are reimbursable based on actual costs with a maximum of $100 per trip.\n",
      "○ Taxis:Reimbursableonlywithpre-approvalforspecificcircumstances.●● Rentalcars:○ Economyorcompactclassisrequired.○ Mileageallowanceof$0.50permile.○ Gasandtollsarereimbursablebasedonreceipts.●\n",
      "Accommodation:\n",
      "ReportingandReimbursement:\n",
      "● Submitexpensereportspromptly:Submitdetailedexpensereportswithin5businessdaysafterthetripthroughthedesignatedcompanysystem.● Maintainoriginalreceipts:Provideoriginalreceiptsforallclaimedexpenses.● Non-reimbursableexpenses:Beawareofexpensesnotcoveredbythetravelpolicy, suchas:○ Personalpurchases○ Latefees○ Upgradesnotpre-approved○ Mini-barcharges○ Roomservicefees●\n",
      "AdditionalConsiderations:\n",
      "● Airfare:○ Domesticflights:Economyclassisrequired.Ticketsexceeding$500requirepre-approvalfromadepartmenthead.○ Internationalflights:Economyorcoachclassisrequired.Ticketsexceeding$1,000requirepre-approvalfromadepartmentheadand/orseniormanagement.●● Groundtransportation:○ Ridesharing:**Reimbursableupto$50perday, withUberPoolorLyftLinepreferred.○ Publictransportation:**Reimbursablebasedonactualcosts,withamaximumof$20perday.○ Inter-citybus:**Reimbursablebasedonactualcosts,withamaximumof$100pertrip.\n"
     ]
    }
   ],
   "source": [
    "response = rag_chain.invoke({\"input\": \"tell me about all the reimbursement policies\"})\n",
    "print(response)\n",
    "print(response['answer'])\n",
    "for  doc in response[\"context\"]:\n",
    "    print(doc.page_content)"
   ]
  },
  {
   "cell_type": "markdown",
   "metadata": {
    "id": "o3KaMQ5_Sx7X"
   },
   "source": [
    "# BUILDING AN APP SIMILAR TO CHATPDF\n",
    "\n",
    "We want to build an app similar to chatpdf.\n",
    "We need a function which will take a file, and store all the documents into vectorstore\n",
    "\n",
    "Understand the below function and execute it"
   ]
  },
  {
   "cell_type": "code",
   "execution_count": 31,
   "metadata": {
    "id": "w6oTWXAGsHtC"
   },
   "outputs": [],
   "source": [
    "import tempfile\n",
    "from langchain_chroma import Chroma\n",
    "from langchain_openai import OpenAIEmbeddings\n",
    "\n",
    "def load_pdf_into_vectorstore(file: tempfile) -> str:\n",
    "    try:\n",
    "        print(\"======Loading file==================\")\n",
    "        file_path = file.name\n",
    "        loader = PyPDFLoader(file_path=file_path)\n",
    "        documents = loader.load()\n",
    "        text_splitter = CharacterTextSplitter(chunk_size=1000, chunk_overlap=30, separator=\"\\n\")\n",
    "        docs = text_splitter.split_documents(documents=documents)\n",
    "        embeddings = OpenAIEmbeddings()\n",
    "\n",
    "        #vectorstore = FAISS.from_documents(docs, embeddings)\n",
    "\n",
    "\n",
    "        vectorstore = Chroma.from_documents(\n",
    "            documents, embedding=embeddings , persist_directory=\"chromadb11\"\n",
    "        )\n",
    "       # vectorstore.save_local(\"pdf_store\")\n",
    "\n",
    "        print(\"======File Loaded================== \")\n",
    "\n",
    "        return 'Document uploaded and index created successfully. You can chat now.'\n",
    "    except Exception as e:\n",
    "        print(e)\n",
    "        return e"
   ]
  },
  {
   "cell_type": "markdown",
   "metadata": {
    "id": "pfcc1fPSxbo_"
   },
   "source": [
    "**Now let us build an app using gradio which allows to upload pdf and chat**\n",
    "\n",
    "in the below code, we are defining a function which will be invoked when user sends a message to chatbot.\n",
    "\n",
    "Understand the code in the below cell and execute it"
   ]
  },
  {
   "cell_type": "code",
   "execution_count": 32,
   "metadata": {
    "id": "eYJjdL8Sp1WZ"
   },
   "outputs": [],
   "source": [
    "import gradio as gr\n",
    "from langchain import OpenAI, PromptTemplate\n",
    "from langchain.document_loaders import PyPDFLoader\n",
    "\n",
    "from langchain_community.chat_message_histories import ChatMessageHistory\n",
    "from langchain_core.chat_history import BaseChatMessageHistory\n",
    "from langchain_core.runnables.history import RunnableWithMessageHistory\n",
    "from langchain_core.messages import HumanMessage, SystemMessage, AIMessage\n",
    "\n",
    "\n",
    "model = ChatOpenAI()\n",
    "\n",
    "\n",
    "def getresponse(query, history:list) -> tuple:\n",
    "\n",
    "   vectorstore = Chroma(\n",
    "      persist_directory=\"chromadb11\", embedding_function=embeddings\n",
    "  )\n",
    "\n",
    " #  vectorstore = FAISS.load_local(\"pdf_store\", embeddings= OpenAIEmbeddings(), allow_dangerous_deserialization=True)\n",
    "\n",
    "   message = \"\"\"\n",
    "    Answer this question using the provided context . If information is not available in the context,\n",
    "      Just respond saying \"I dont know\"\n",
    "    {input}\n",
    "    Context:\n",
    "    {context}\n",
    "    \"\"\"\n",
    "\n",
    "   prompt = ChatPromptTemplate.from_messages([(\"human\", message)])\n",
    "   llm = ChatOpenAI()\n",
    "\n",
    "\n",
    "   question_answer_chain = create_stuff_documents_chain(llm, prompt)\n",
    "#print(question_answer_chain)\n",
    "   rag_chain = create_retrieval_chain(vectorstore.as_retriever(), question_answer_chain)\n",
    "\n",
    "   # rag_chain = (\n",
    "   #    {\"context\": vectorstore.as_retriever(), \"question\": RunnablePassthrough()}\n",
    "   #    | prompt\n",
    "   #    | llm\n",
    "   # )\n",
    "\n",
    "\n",
    "\n",
    "   response1= rag_chain.invoke({\"input\":query})\n",
    "   print(response1)\n",
    "   history.append((query, response1['answer']))\n",
    "   return \"\",history\n"
   ]
  },
  {
   "cell_type": "markdown",
   "metadata": {
    "id": "rkzxdQB2Sx7X"
   },
   "source": [
    "**Understand and execute the below code.**\n",
    "\n",
    "**Once u go to the given url , upload a file and send queries and chat**"
   ]
  },
  {
   "cell_type": "code",
   "execution_count": 33,
   "metadata": {
    "id": "YvlTLA0BSx7Y"
   },
   "outputs": [
    {
     "name": "stderr",
     "output_type": "stream",
     "text": [
      "C:\\Users\\Dell\\AppData\\Local\\Temp\\ipykernel_14764\\1539112960.py:13: UserWarning: You have not specified a value for the `type` parameter. Defaulting to the 'tuples' format for chatbot messages, but this is deprecated and will be removed in a future version of Gradio. Please set type='messages' instead, which uses openai-style dictionaries with 'role' and 'content' keys.\n",
      "  chatbot = gr.Chatbot(label='Talk to the Document')\n"
     ]
    },
    {
     "name": "stdout",
     "output_type": "stream",
     "text": [
      "* Running on local URL:  http://127.0.0.1:7860\n",
      "\n",
      "To create a public link, set `share=True` in `launch()`.\n"
     ]
    },
    {
     "data": {
      "text/html": [
       "<div><iframe src=\"http://127.0.0.1:7860/\" width=\"100%\" height=\"500\" allow=\"autoplay; camera; microphone; clipboard-read; clipboard-write;\" frameborder=\"0\" allowfullscreen></iframe></div>"
      ],
      "text/plain": [
       "<IPython.core.display.HTML object>"
      ]
     },
     "metadata": {},
     "output_type": "display_data"
    },
    {
     "name": "stdout",
     "output_type": "stream",
     "text": [
      "======Loading file==================\n",
      "======File Loaded================== \n"
     ]
    },
    {
     "name": "stderr",
     "output_type": "stream",
     "text": [
      "Number of requested results 4 is greater than number of elements in index 1, updating n_results = 1\n"
     ]
    },
    {
     "name": "stdout",
     "output_type": "stream",
     "text": [
      "{'input': 'What is the document about?', 'context': [Document(id='d8da7a4e-f897-49f3-9cb0-d69c9211bbfe', metadata={'creationdate': '2025-02-01T15:54:45+00:00', 'creator': 'Mozilla/5.0 (Windows NT 10.0; Win64; x64) AppleWebKit/537.36 (KHTML, like Gecko) Chrome/132.0.0.0 Safari/537.36', 'moddate': '2025-02-01T15:54:45+00:00', 'page': 0, 'page_label': '1', 'producer': 'Skia/PDF m132', 'source': 'C:\\\\Users\\\\Dell\\\\AppData\\\\Local\\\\Temp\\\\gradio\\\\deb778c6fac087ced8772ada6cc0d10e00676c1ca1cfbb66aa49144d5c93e9d4\\\\Admit Card-AEEE.pdf', 'title': 'Admit Card', 'total_pages': 1}, page_content='AMRITA ENTRANCE EXAMINATION ENGINEERING 2025 : Phase I\\nAdmit Card\\n3302017194\\nRegistration No. : 3302017194\\nPassword : ALE5NK\\nCandidate Name : Burlagadda Sai Yeshwanth\\nGender : Male\\nDate of Birth : 29 Aug 2007\\nCandidate Should Produce the Admit card (Original)\\nduly signed by the candidate and invigilator at the time of admission.\\nI have read the instruction given under and agree to abide by them.\\nExam\\nDate\\nReporting\\nTime\\nExam Time Center Address Signature of\\nCandidate\\nSignature of\\nInvigilator\\n02 Feb\\n2025\\n11.15 AM (IST)12.00 Noon - 02.30\\nPM (IST)\\nAMRITA VISHWA VIDYAPEETHAM, CHENNAI CAMPUS\\n337/1A, VENGAL VILLAGE, THIRUVALLUR TALUK &\\nDISTRICT ,TAMIL NADU\\n, CHENNAI [MADRAS], TAMIL NADU - 601103\\nINSTRUCTION TO CANDIDATES\\n(Candidates are required to carefully read / understand and must strictly follow instructions.)\\n1. Ensure that your personal data printed on this Admit Card are correct. Write to aeee@amrita.edu  if there is any discrepancy, with proof for\\nnecessary rectification. The same shall be reported at the examination centre if the same is found at the centre.\\n2. You are required to appear for the examination at your own expense at the time and centre as mentioned above. You are not allowed to appear for\\nthe examination in any centre other than the one mentioned above. You are also advised to get acquainted with the locality of the exam centre\\nprior to the examination.\\n3. You must be report at the examination centre at the time mentioned on this Admit Card. You may not be allowed to enter the centre after the\\ncommencement of the examination.\\n4. You must carry print copy of this Admit Card along with a valid photo identity card issued by the Government, preferably Aadhar Card to attend\\nthe examination. Admit Card alone is not sufficient to attend the examination.\\n5. You are required to sign on the Admit Card. You must also ensure that the Invigilator also signs on the Admit Card.\\n6. You are required to preserve this signed Admit Card till the end of the Centralized Seat Allotment Process & must be submitted in along with the\\nother documents / certificates to complete the admission formalities.\\n7. Check your name in the Roster/Room list at the examination centre and proceed to the designated area. You will be allotted a seat with AEEE 2025\\nRegistration number. You are allowed to occupy only the allotted seat. Your candidature may be cancelled if you occupy any other seat.\\n8. You must strictly follow the instructions given by the invigilator at the examination hall.\\n9. The invigilator cannot and will not answer any questions related to the questions in the examination.\\n10. You are not permitted to carry any material in the examination hall. Your candidature will be cancelled if you are possessing any material like\\ntextual material, Calculator, Mobile & any sort of electronic devices etc.\\n11. Neither the university nor the exam centre will be responsible for anything lost, stolen, or misplaced personal belongings.\\n12. There are no scheduled breaks during the examination.\\n13. You are required to carry your own pen / pencil / eraser. Paper for rough work will be provided at the examination centre.\\n14. The examination has negative marking for wrong answers. So, be sure of the option you choose for each question, as you will only be able to\\nchange your choice but not unselect it.\\n15. Any unfair means during the examination will be dealt as per university rules. Candidates shall maintain perfect silence and attend only their\\nexamination. Any conversation / gesture / disturbance in the computer lab / malpractice / attempt to commit malpractice / violation of the rules\\nshall be deemed as misbehaviour and will lead to disqualification of the candidate. Any wrong incident / activity reported by the Invigilator, and\\nexamination centre in charge will be accepted as final.\\n16. If a candidate is found doing unfair means or impersonating or violating the above, his/her candidature shall be cancelled, and he/she is likely to\\nbe debarred from taking the examination either permanently or for a specified period according to the nature of the offence. The decision of the\\nUniversity representatives/Invigilators is final and binding on the candidate.\\n17. You are not allowed to leave the examination hall before the scheduled end time of the examination.\\n18. JURISDICTION: Courts situated in Coimbatore District, Tamil Nadu only.\\n2/1/25, 9:24 PM Admit Card\\nhttps://test.cbexams.com/OtherProj/AMRITA/UG/SlotBook/SlotBook/AdmitCard.aspx 1/1')], 'answer': 'The document is an Admit Card for the AMRITA ENTRANCE EXAMINATION ENGINEERING 2025 Phase I, providing important details for the candidate Burlagadda Sai Yeshwanth such as exam date, reporting time, exam time, and center address. It also includes instructions for candidates to follow during the examination.'}\n"
     ]
    },
    {
     "name": "stderr",
     "output_type": "stream",
     "text": [
      "Number of requested results 4 is greater than number of elements in index 1, updating n_results = 1\n"
     ]
    },
    {
     "name": "stdout",
     "output_type": "stream",
     "text": [
      "{'input': 'List one instruction', 'context': [Document(id='d8da7a4e-f897-49f3-9cb0-d69c9211bbfe', metadata={'creationdate': '2025-02-01T15:54:45+00:00', 'creator': 'Mozilla/5.0 (Windows NT 10.0; Win64; x64) AppleWebKit/537.36 (KHTML, like Gecko) Chrome/132.0.0.0 Safari/537.36', 'moddate': '2025-02-01T15:54:45+00:00', 'page': 0, 'page_label': '1', 'producer': 'Skia/PDF m132', 'source': 'C:\\\\Users\\\\Dell\\\\AppData\\\\Local\\\\Temp\\\\gradio\\\\deb778c6fac087ced8772ada6cc0d10e00676c1ca1cfbb66aa49144d5c93e9d4\\\\Admit Card-AEEE.pdf', 'title': 'Admit Card', 'total_pages': 1}, page_content='AMRITA ENTRANCE EXAMINATION ENGINEERING 2025 : Phase I\\nAdmit Card\\n3302017194\\nRegistration No. : 3302017194\\nPassword : ALE5NK\\nCandidate Name : Burlagadda Sai Yeshwanth\\nGender : Male\\nDate of Birth : 29 Aug 2007\\nCandidate Should Produce the Admit card (Original)\\nduly signed by the candidate and invigilator at the time of admission.\\nI have read the instruction given under and agree to abide by them.\\nExam\\nDate\\nReporting\\nTime\\nExam Time Center Address Signature of\\nCandidate\\nSignature of\\nInvigilator\\n02 Feb\\n2025\\n11.15 AM (IST)12.00 Noon - 02.30\\nPM (IST)\\nAMRITA VISHWA VIDYAPEETHAM, CHENNAI CAMPUS\\n337/1A, VENGAL VILLAGE, THIRUVALLUR TALUK &\\nDISTRICT ,TAMIL NADU\\n, CHENNAI [MADRAS], TAMIL NADU - 601103\\nINSTRUCTION TO CANDIDATES\\n(Candidates are required to carefully read / understand and must strictly follow instructions.)\\n1. Ensure that your personal data printed on this Admit Card are correct. Write to aeee@amrita.edu  if there is any discrepancy, with proof for\\nnecessary rectification. The same shall be reported at the examination centre if the same is found at the centre.\\n2. You are required to appear for the examination at your own expense at the time and centre as mentioned above. You are not allowed to appear for\\nthe examination in any centre other than the one mentioned above. You are also advised to get acquainted with the locality of the exam centre\\nprior to the examination.\\n3. You must be report at the examination centre at the time mentioned on this Admit Card. You may not be allowed to enter the centre after the\\ncommencement of the examination.\\n4. You must carry print copy of this Admit Card along with a valid photo identity card issued by the Government, preferably Aadhar Card to attend\\nthe examination. Admit Card alone is not sufficient to attend the examination.\\n5. You are required to sign on the Admit Card. You must also ensure that the Invigilator also signs on the Admit Card.\\n6. You are required to preserve this signed Admit Card till the end of the Centralized Seat Allotment Process & must be submitted in along with the\\nother documents / certificates to complete the admission formalities.\\n7. Check your name in the Roster/Room list at the examination centre and proceed to the designated area. You will be allotted a seat with AEEE 2025\\nRegistration number. You are allowed to occupy only the allotted seat. Your candidature may be cancelled if you occupy any other seat.\\n8. You must strictly follow the instructions given by the invigilator at the examination hall.\\n9. The invigilator cannot and will not answer any questions related to the questions in the examination.\\n10. You are not permitted to carry any material in the examination hall. Your candidature will be cancelled if you are possessing any material like\\ntextual material, Calculator, Mobile & any sort of electronic devices etc.\\n11. Neither the university nor the exam centre will be responsible for anything lost, stolen, or misplaced personal belongings.\\n12. There are no scheduled breaks during the examination.\\n13. You are required to carry your own pen / pencil / eraser. Paper for rough work will be provided at the examination centre.\\n14. The examination has negative marking for wrong answers. So, be sure of the option you choose for each question, as you will only be able to\\nchange your choice but not unselect it.\\n15. Any unfair means during the examination will be dealt as per university rules. Candidates shall maintain perfect silence and attend only their\\nexamination. Any conversation / gesture / disturbance in the computer lab / malpractice / attempt to commit malpractice / violation of the rules\\nshall be deemed as misbehaviour and will lead to disqualification of the candidate. Any wrong incident / activity reported by the Invigilator, and\\nexamination centre in charge will be accepted as final.\\n16. If a candidate is found doing unfair means or impersonating or violating the above, his/her candidature shall be cancelled, and he/she is likely to\\nbe debarred from taking the examination either permanently or for a specified period according to the nature of the offence. The decision of the\\nUniversity representatives/Invigilators is final and binding on the candidate.\\n17. You are not allowed to leave the examination hall before the scheduled end time of the examination.\\n18. JURISDICTION: Courts situated in Coimbatore District, Tamil Nadu only.\\n2/1/25, 9:24 PM Admit Card\\nhttps://test.cbexams.com/OtherProj/AMRITA/UG/SlotBook/SlotBook/AdmitCard.aspx 1/1')], 'answer': 'One instruction is to ensure that personal data on the Admit Card are correct and contact aeee@amrita.edu for any necessary rectification.'}\n"
     ]
    },
    {
     "name": "stderr",
     "output_type": "stream",
     "text": [
      "Number of requested results 4 is greater than number of elements in index 1, updating n_results = 1\n"
     ]
    },
    {
     "name": "stdout",
     "output_type": "stream",
     "text": [
      "{'input': 'give the details of the candidate?', 'context': [Document(id='d8da7a4e-f897-49f3-9cb0-d69c9211bbfe', metadata={'creationdate': '2025-02-01T15:54:45+00:00', 'creator': 'Mozilla/5.0 (Windows NT 10.0; Win64; x64) AppleWebKit/537.36 (KHTML, like Gecko) Chrome/132.0.0.0 Safari/537.36', 'moddate': '2025-02-01T15:54:45+00:00', 'page': 0, 'page_label': '1', 'producer': 'Skia/PDF m132', 'source': 'C:\\\\Users\\\\Dell\\\\AppData\\\\Local\\\\Temp\\\\gradio\\\\deb778c6fac087ced8772ada6cc0d10e00676c1ca1cfbb66aa49144d5c93e9d4\\\\Admit Card-AEEE.pdf', 'title': 'Admit Card', 'total_pages': 1}, page_content='AMRITA ENTRANCE EXAMINATION ENGINEERING 2025 : Phase I\\nAdmit Card\\n3302017194\\nRegistration No. : 3302017194\\nPassword : ALE5NK\\nCandidate Name : Burlagadda Sai Yeshwanth\\nGender : Male\\nDate of Birth : 29 Aug 2007\\nCandidate Should Produce the Admit card (Original)\\nduly signed by the candidate and invigilator at the time of admission.\\nI have read the instruction given under and agree to abide by them.\\nExam\\nDate\\nReporting\\nTime\\nExam Time Center Address Signature of\\nCandidate\\nSignature of\\nInvigilator\\n02 Feb\\n2025\\n11.15 AM (IST)12.00 Noon - 02.30\\nPM (IST)\\nAMRITA VISHWA VIDYAPEETHAM, CHENNAI CAMPUS\\n337/1A, VENGAL VILLAGE, THIRUVALLUR TALUK &\\nDISTRICT ,TAMIL NADU\\n, CHENNAI [MADRAS], TAMIL NADU - 601103\\nINSTRUCTION TO CANDIDATES\\n(Candidates are required to carefully read / understand and must strictly follow instructions.)\\n1. Ensure that your personal data printed on this Admit Card are correct. Write to aeee@amrita.edu  if there is any discrepancy, with proof for\\nnecessary rectification. The same shall be reported at the examination centre if the same is found at the centre.\\n2. You are required to appear for the examination at your own expense at the time and centre as mentioned above. You are not allowed to appear for\\nthe examination in any centre other than the one mentioned above. You are also advised to get acquainted with the locality of the exam centre\\nprior to the examination.\\n3. You must be report at the examination centre at the time mentioned on this Admit Card. You may not be allowed to enter the centre after the\\ncommencement of the examination.\\n4. You must carry print copy of this Admit Card along with a valid photo identity card issued by the Government, preferably Aadhar Card to attend\\nthe examination. Admit Card alone is not sufficient to attend the examination.\\n5. You are required to sign on the Admit Card. You must also ensure that the Invigilator also signs on the Admit Card.\\n6. You are required to preserve this signed Admit Card till the end of the Centralized Seat Allotment Process & must be submitted in along with the\\nother documents / certificates to complete the admission formalities.\\n7. Check your name in the Roster/Room list at the examination centre and proceed to the designated area. You will be allotted a seat with AEEE 2025\\nRegistration number. You are allowed to occupy only the allotted seat. Your candidature may be cancelled if you occupy any other seat.\\n8. You must strictly follow the instructions given by the invigilator at the examination hall.\\n9. The invigilator cannot and will not answer any questions related to the questions in the examination.\\n10. You are not permitted to carry any material in the examination hall. Your candidature will be cancelled if you are possessing any material like\\ntextual material, Calculator, Mobile & any sort of electronic devices etc.\\n11. Neither the university nor the exam centre will be responsible for anything lost, stolen, or misplaced personal belongings.\\n12. There are no scheduled breaks during the examination.\\n13. You are required to carry your own pen / pencil / eraser. Paper for rough work will be provided at the examination centre.\\n14. The examination has negative marking for wrong answers. So, be sure of the option you choose for each question, as you will only be able to\\nchange your choice but not unselect it.\\n15. Any unfair means during the examination will be dealt as per university rules. Candidates shall maintain perfect silence and attend only their\\nexamination. Any conversation / gesture / disturbance in the computer lab / malpractice / attempt to commit malpractice / violation of the rules\\nshall be deemed as misbehaviour and will lead to disqualification of the candidate. Any wrong incident / activity reported by the Invigilator, and\\nexamination centre in charge will be accepted as final.\\n16. If a candidate is found doing unfair means or impersonating or violating the above, his/her candidature shall be cancelled, and he/she is likely to\\nbe debarred from taking the examination either permanently or for a specified period according to the nature of the offence. The decision of the\\nUniversity representatives/Invigilators is final and binding on the candidate.\\n17. You are not allowed to leave the examination hall before the scheduled end time of the examination.\\n18. JURISDICTION: Courts situated in Coimbatore District, Tamil Nadu only.\\n2/1/25, 9:24 PM Admit Card\\nhttps://test.cbexams.com/OtherProj/AMRITA/UG/SlotBook/SlotBook/AdmitCard.aspx 1/1')], 'answer': 'Candidate Name: Burlagadda Sai Yeshwanth\\nGender: Male\\nDate of Birth: 29 Aug 2007'}\n"
     ]
    },
    {
     "name": "stderr",
     "output_type": "stream",
     "text": [
      "Number of requested results 4 is greater than number of elements in index 1, updating n_results = 1\n"
     ]
    },
    {
     "name": "stdout",
     "output_type": "stream",
     "text": [
      "{'input': 'who is the prime minister of india?', 'context': [Document(id='d8da7a4e-f897-49f3-9cb0-d69c9211bbfe', metadata={'creationdate': '2025-02-01T15:54:45+00:00', 'creator': 'Mozilla/5.0 (Windows NT 10.0; Win64; x64) AppleWebKit/537.36 (KHTML, like Gecko) Chrome/132.0.0.0 Safari/537.36', 'moddate': '2025-02-01T15:54:45+00:00', 'page': 0, 'page_label': '1', 'producer': 'Skia/PDF m132', 'source': 'C:\\\\Users\\\\Dell\\\\AppData\\\\Local\\\\Temp\\\\gradio\\\\deb778c6fac087ced8772ada6cc0d10e00676c1ca1cfbb66aa49144d5c93e9d4\\\\Admit Card-AEEE.pdf', 'title': 'Admit Card', 'total_pages': 1}, page_content='AMRITA ENTRANCE EXAMINATION ENGINEERING 2025 : Phase I\\nAdmit Card\\n3302017194\\nRegistration No. : 3302017194\\nPassword : ALE5NK\\nCandidate Name : Burlagadda Sai Yeshwanth\\nGender : Male\\nDate of Birth : 29 Aug 2007\\nCandidate Should Produce the Admit card (Original)\\nduly signed by the candidate and invigilator at the time of admission.\\nI have read the instruction given under and agree to abide by them.\\nExam\\nDate\\nReporting\\nTime\\nExam Time Center Address Signature of\\nCandidate\\nSignature of\\nInvigilator\\n02 Feb\\n2025\\n11.15 AM (IST)12.00 Noon - 02.30\\nPM (IST)\\nAMRITA VISHWA VIDYAPEETHAM, CHENNAI CAMPUS\\n337/1A, VENGAL VILLAGE, THIRUVALLUR TALUK &\\nDISTRICT ,TAMIL NADU\\n, CHENNAI [MADRAS], TAMIL NADU - 601103\\nINSTRUCTION TO CANDIDATES\\n(Candidates are required to carefully read / understand and must strictly follow instructions.)\\n1. Ensure that your personal data printed on this Admit Card are correct. Write to aeee@amrita.edu  if there is any discrepancy, with proof for\\nnecessary rectification. The same shall be reported at the examination centre if the same is found at the centre.\\n2. You are required to appear for the examination at your own expense at the time and centre as mentioned above. You are not allowed to appear for\\nthe examination in any centre other than the one mentioned above. You are also advised to get acquainted with the locality of the exam centre\\nprior to the examination.\\n3. You must be report at the examination centre at the time mentioned on this Admit Card. You may not be allowed to enter the centre after the\\ncommencement of the examination.\\n4. You must carry print copy of this Admit Card along with a valid photo identity card issued by the Government, preferably Aadhar Card to attend\\nthe examination. Admit Card alone is not sufficient to attend the examination.\\n5. You are required to sign on the Admit Card. You must also ensure that the Invigilator also signs on the Admit Card.\\n6. You are required to preserve this signed Admit Card till the end of the Centralized Seat Allotment Process & must be submitted in along with the\\nother documents / certificates to complete the admission formalities.\\n7. Check your name in the Roster/Room list at the examination centre and proceed to the designated area. You will be allotted a seat with AEEE 2025\\nRegistration number. You are allowed to occupy only the allotted seat. Your candidature may be cancelled if you occupy any other seat.\\n8. You must strictly follow the instructions given by the invigilator at the examination hall.\\n9. The invigilator cannot and will not answer any questions related to the questions in the examination.\\n10. You are not permitted to carry any material in the examination hall. Your candidature will be cancelled if you are possessing any material like\\ntextual material, Calculator, Mobile & any sort of electronic devices etc.\\n11. Neither the university nor the exam centre will be responsible for anything lost, stolen, or misplaced personal belongings.\\n12. There are no scheduled breaks during the examination.\\n13. You are required to carry your own pen / pencil / eraser. Paper for rough work will be provided at the examination centre.\\n14. The examination has negative marking for wrong answers. So, be sure of the option you choose for each question, as you will only be able to\\nchange your choice but not unselect it.\\n15. Any unfair means during the examination will be dealt as per university rules. Candidates shall maintain perfect silence and attend only their\\nexamination. Any conversation / gesture / disturbance in the computer lab / malpractice / attempt to commit malpractice / violation of the rules\\nshall be deemed as misbehaviour and will lead to disqualification of the candidate. Any wrong incident / activity reported by the Invigilator, and\\nexamination centre in charge will be accepted as final.\\n16. If a candidate is found doing unfair means or impersonating or violating the above, his/her candidature shall be cancelled, and he/she is likely to\\nbe debarred from taking the examination either permanently or for a specified period according to the nature of the offence. The decision of the\\nUniversity representatives/Invigilators is final and binding on the candidate.\\n17. You are not allowed to leave the examination hall before the scheduled end time of the examination.\\n18. JURISDICTION: Courts situated in Coimbatore District, Tamil Nadu only.\\n2/1/25, 9:24 PM Admit Card\\nhttps://test.cbexams.com/OtherProj/AMRITA/UG/SlotBook/SlotBook/AdmitCard.aspx 1/1')], 'answer': 'I dont know'}\n",
      "Keyboard interruption in main thread... closing server.\n"
     ]
    }
   ],
   "source": [
    "with gr.Blocks() as demo:\n",
    "    with gr.Row():\n",
    "        with gr.Column():\n",
    "            file = gr.components.File(\n",
    "                label='Upload your pdf file',\n",
    "                file_count='single',\n",
    "                file_types=['.pdf'])\n",
    "            #with gr.Row():\n",
    "            upload = gr.components.Button(\n",
    "                    value='Upload', variant='primary')\n",
    "\n",
    "        label = gr.components.Textbox()\n",
    "    chatbot = gr.Chatbot(label='Talk to the Document')\n",
    "\n",
    "\n",
    "    msg = gr.Textbox()\n",
    "    clear = gr.ClearButton([msg, chatbot])\n",
    "    vectorStore =None\n",
    "\n",
    "    upload.click(load_pdf_into_vectorstore,[file],[label])\n",
    "\n",
    "    msg.submit(getresponse, [msg,chatbot], [msg, chatbot])\n",
    "\n",
    "if __name__ == '__main__':\n",
    "    demo.launch(debug=True)"
   ]
  },
  {
   "cell_type": "markdown",
   "metadata": {
    "id": "Nz-bd-WWy2Sk"
   },
   "source": [
    "**Let us try to understand how to retrieve data from a given web url**"
   ]
  },
  {
   "cell_type": "code",
   "execution_count": 35,
   "metadata": {
    "id": "75P1He5HzDF2"
   },
   "outputs": [
    {
     "data": {
      "text/plain": [
       "<langchain_chroma.vectorstores.Chroma at 0x2441da3f7d0>"
      ]
     },
     "execution_count": 35,
     "metadata": {},
     "output_type": "execute_result"
    }
   ],
   "source": [
    "from langchain_chroma import Chroma\n",
    "from langchain_community.document_loaders import WebBaseLoader\n",
    "from langchain_openai import OpenAIEmbeddings\n",
    "from langchain_text_splitters import RecursiveCharacterTextSplitter\n",
    "\n",
    "# Load blog post\n",
    "loader = WebBaseLoader(\"https://lilianweng.github.io/posts/2023-06-23-agent/\")\n",
    "data = loader.load()\n",
    "\n",
    "# Split\n",
    "text_splitter = RecursiveCharacterTextSplitter(chunk_size=500, chunk_overlap=0)\n",
    "splits = text_splitter.split_documents(data)\n",
    "\n",
    "# VectorDB\n",
    "embedding = HuggingFaceEmbeddings()\n",
    "vectordb = Chroma.from_documents(documents=splits, embedding=embedding)\n",
    "vectordb"
   ]
  },
  {
   "cell_type": "markdown",
   "metadata": {
    "id": "AahTb8F7yliA"
   },
   "source": [
    "**Now Let us try to Understand MultiQueryRetriever**\n",
    "\n",
    "The MultiQueryRetriever automates the process of prompt tuning by using an LLM to generate multiple queries from different perspectives for a given user input query. For each query, it retrieves a set of relevant documents and takes the unique union across all queries to get a larger set of potentially relevant documents."
   ]
  },
  {
   "cell_type": "code",
   "execution_count": 37,
   "metadata": {
    "id": "IbXiUhyLyuGT"
   },
   "outputs": [
    {
     "data": {
      "text/plain": [
       "[Document(id='d7d52fd5-1728-4c3c-8579-ff45708a758b', metadata={'description': 'Building agents with LLM (large language model) as its core controller is a cool concept. Several proof-of-concepts demos, such as AutoGPT, GPT-Engineer and BabyAGI, serve as inspiring examples. The potentiality of LLM extends beyond generating well-written copies, stories, essays and programs; it can be framed as a powerful general problem solver.\\nAgent System Overview\\nIn a LLM-powered autonomous agent system, LLM functions as the agent’s brain, complemented by several key components:\\n\\nPlanning\\n\\nSubgoal and decomposition: The agent breaks down large tasks into smaller, manageable subgoals, enabling efficient handling of complex tasks.\\nReflection and refinement: The agent can do self-criticism and self-reflection over past actions, learn from mistakes and refine them for future steps, thereby improving the quality of final results.\\n\\n\\nMemory\\n\\nShort-term memory: I would consider all the in-context learning (See Prompt Engineering) as utilizing short-term memory of the model to learn.\\nLong-term memory: This provides the agent with the capability to retain and recall (infinite) information over extended periods, often by leveraging an external vector store and fast retrieval.\\n\\n\\nTool use\\n\\nThe agent learns to call external APIs for extra information that is missing from the model weights (often hard to change after pre-training), including current information, code execution capability, access to proprietary information sources and more.\\n\\n\\n\\n\\nFig. 1. Overview of a LLM-powered autonomous agent system.\\nComponent One: Planning\\nA complicated task usually involves many steps. An agent needs to know what they are and plan ahead.', 'language': 'en', 'source': 'https://lilianweng.github.io/posts/2023-06-23-agent/', 'title': \"LLM Powered Autonomous Agents | Lil'Log\"}, page_content='Task decomposition can be done (1) by LLM with simple prompting like \"Steps for XYZ.\\\\n1.\", \"What are the subgoals for achieving XYZ?\", (2) by using task-specific instructions; e.g. \"Write a story outline.\" for writing a novel, or (3) with human inputs.'),\n",
       " Document(id='13ec0876-b992-42d5-b947-58379dba4a08', metadata={'description': 'Building agents with LLM (large language model) as its core controller is a cool concept. Several proof-of-concepts demos, such as AutoGPT, GPT-Engineer and BabyAGI, serve as inspiring examples. The potentiality of LLM extends beyond generating well-written copies, stories, essays and programs; it can be framed as a powerful general problem solver.\\nAgent System Overview\\nIn a LLM-powered autonomous agent system, LLM functions as the agent’s brain, complemented by several key components:\\n\\nPlanning\\n\\nSubgoal and decomposition: The agent breaks down large tasks into smaller, manageable subgoals, enabling efficient handling of complex tasks.\\nReflection and refinement: The agent can do self-criticism and self-reflection over past actions, learn from mistakes and refine them for future steps, thereby improving the quality of final results.\\n\\n\\nMemory\\n\\nShort-term memory: I would consider all the in-context learning (See Prompt Engineering) as utilizing short-term memory of the model to learn.\\nLong-term memory: This provides the agent with the capability to retain and recall (infinite) information over extended periods, often by leveraging an external vector store and fast retrieval.\\n\\n\\nTool use\\n\\nThe agent learns to call external APIs for extra information that is missing from the model weights (often hard to change after pre-training), including current information, code execution capability, access to proprietary information sources and more.\\n\\n\\n\\n\\nFig. 1. Overview of a LLM-powered autonomous agent system.\\nComponent One: Planning\\nA complicated task usually involves many steps. An agent needs to know what they are and plan ahead.', 'language': 'en', 'source': 'https://lilianweng.github.io/posts/2023-06-23-agent/', 'title': \"LLM Powered Autonomous Agents | Lil'Log\"}, page_content='Planning\\n\\nSubgoal and decomposition: The agent breaks down large tasks into smaller, manageable subgoals, enabling efficient handling of complex tasks.\\nReflection and refinement: The agent can do self-criticism and self-reflection over past actions, learn from mistakes and refine them for future steps, thereby improving the quality of final results.\\n\\n\\nMemory'),\n",
       " Document(id='3c6730dc-8988-4404-bb66-e52867705055', metadata={'description': 'Building agents with LLM (large language model) as its core controller is a cool concept. Several proof-of-concepts demos, such as AutoGPT, GPT-Engineer and BabyAGI, serve as inspiring examples. The potentiality of LLM extends beyond generating well-written copies, stories, essays and programs; it can be framed as a powerful general problem solver.\\nAgent System Overview\\nIn a LLM-powered autonomous agent system, LLM functions as the agent’s brain, complemented by several key components:\\n\\nPlanning\\n\\nSubgoal and decomposition: The agent breaks down large tasks into smaller, manageable subgoals, enabling efficient handling of complex tasks.\\nReflection and refinement: The agent can do self-criticism and self-reflection over past actions, learn from mistakes and refine them for future steps, thereby improving the quality of final results.\\n\\n\\nMemory\\n\\nShort-term memory: I would consider all the in-context learning (See Prompt Engineering) as utilizing short-term memory of the model to learn.\\nLong-term memory: This provides the agent with the capability to retain and recall (infinite) information over extended periods, often by leveraging an external vector store and fast retrieval.\\n\\n\\nTool use\\n\\nThe agent learns to call external APIs for extra information that is missing from the model weights (often hard to change after pre-training), including current information, code execution capability, access to proprietary information sources and more.\\n\\n\\n\\n\\nFig. 1. Overview of a LLM-powered autonomous agent system.\\nComponent One: Planning\\nA complicated task usually involves many steps. An agent needs to know what they are and plan ahead.', 'language': 'en', 'source': 'https://lilianweng.github.io/posts/2023-06-23-agent/', 'title': \"LLM Powered Autonomous Agents | Lil'Log\"}, page_content='Challenges in long-term planning and task decomposition: Planning over a lengthy history and effectively exploring the solution space remain challenging. LLMs struggle to adjust plans when faced with unexpected errors, making them less robust compared to humans who learn from trial and error.'),\n",
       " Document(id='3852c21c-6832-4b66-a98e-76da6c53dfbc', metadata={'description': 'Building agents with LLM (large language model) as its core controller is a cool concept. Several proof-of-concepts demos, such as AutoGPT, GPT-Engineer and BabyAGI, serve as inspiring examples. The potentiality of LLM extends beyond generating well-written copies, stories, essays and programs; it can be framed as a powerful general problem solver.\\nAgent System Overview\\nIn a LLM-powered autonomous agent system, LLM functions as the agent’s brain, complemented by several key components:\\n\\nPlanning\\n\\nSubgoal and decomposition: The agent breaks down large tasks into smaller, manageable subgoals, enabling efficient handling of complex tasks.\\nReflection and refinement: The agent can do self-criticism and self-reflection over past actions, learn from mistakes and refine them for future steps, thereby improving the quality of final results.\\n\\n\\nMemory\\n\\nShort-term memory: I would consider all the in-context learning (See Prompt Engineering) as utilizing short-term memory of the model to learn.\\nLong-term memory: This provides the agent with the capability to retain and recall (infinite) information over extended periods, often by leveraging an external vector store and fast retrieval.\\n\\n\\nTool use\\n\\nThe agent learns to call external APIs for extra information that is missing from the model weights (often hard to change after pre-training), including current information, code execution capability, access to proprietary information sources and more.\\n\\n\\n\\n\\nFig. 1. Overview of a LLM-powered autonomous agent system.\\nComponent One: Planning\\nA complicated task usually involves many steps. An agent needs to know what they are and plan ahead.', 'language': 'en', 'source': 'https://lilianweng.github.io/posts/2023-06-23-agent/', 'title': \"LLM Powered Autonomous Agents | Lil'Log\"}, page_content='(3) Task execution: Expert models execute on the specific tasks and log results.\\nInstruction:')]"
      ]
     },
     "execution_count": 37,
     "metadata": {},
     "output_type": "execute_result"
    }
   ],
   "source": [
    "from langchain.retrievers.multi_query import MultiQueryRetriever\n",
    "from langchain_openai import ChatOpenAI\n",
    "\n",
    "question = \"What are the approaches to Task Decomposition?\"\n",
    "llm = ChatOpenAI(temperature=0)\n",
    "retriever_from_llm = MultiQueryRetriever.from_llm(\n",
    "    retriever=vectordb.as_retriever(), llm=llm\n",
    ")\n",
    "retriever_from_llm.invoke(question)"
   ]
  },
  {
   "cell_type": "code",
   "execution_count": null,
   "metadata": {
    "id": "prKUqTeMzU7v"
   },
   "outputs": [],
   "source": [
    "import logging\n",
    "\n",
    "logging.basicConfig()\n",
    "logging.getLogger(\"langchain.retrievers.multi_query\").setLevel(logging.INFO)"
   ]
  },
  {
   "cell_type": "code",
   "execution_count": 43,
   "metadata": {
    "id": "j-mEsFZpzXHY"
   },
   "outputs": [
    {
     "data": {
      "text/plain": [
       "[Document(id='d7d52fd5-1728-4c3c-8579-ff45708a758b', metadata={'description': 'Building agents with LLM (large language model) as its core controller is a cool concept. Several proof-of-concepts demos, such as AutoGPT, GPT-Engineer and BabyAGI, serve as inspiring examples. The potentiality of LLM extends beyond generating well-written copies, stories, essays and programs; it can be framed as a powerful general problem solver.\\nAgent System Overview\\nIn a LLM-powered autonomous agent system, LLM functions as the agent’s brain, complemented by several key components:\\n\\nPlanning\\n\\nSubgoal and decomposition: The agent breaks down large tasks into smaller, manageable subgoals, enabling efficient handling of complex tasks.\\nReflection and refinement: The agent can do self-criticism and self-reflection over past actions, learn from mistakes and refine them for future steps, thereby improving the quality of final results.\\n\\n\\nMemory\\n\\nShort-term memory: I would consider all the in-context learning (See Prompt Engineering) as utilizing short-term memory of the model to learn.\\nLong-term memory: This provides the agent with the capability to retain and recall (infinite) information over extended periods, often by leveraging an external vector store and fast retrieval.\\n\\n\\nTool use\\n\\nThe agent learns to call external APIs for extra information that is missing from the model weights (often hard to change after pre-training), including current information, code execution capability, access to proprietary information sources and more.\\n\\n\\n\\n\\nFig. 1. Overview of a LLM-powered autonomous agent system.\\nComponent One: Planning\\nA complicated task usually involves many steps. An agent needs to know what they are and plan ahead.', 'language': 'en', 'source': 'https://lilianweng.github.io/posts/2023-06-23-agent/', 'title': \"LLM Powered Autonomous Agents | Lil'Log\"}, page_content='Task decomposition can be done (1) by LLM with simple prompting like \"Steps for XYZ.\\\\n1.\", \"What are the subgoals for achieving XYZ?\", (2) by using task-specific instructions; e.g. \"Write a story outline.\" for writing a novel, or (3) with human inputs.'),\n",
       " Document(id='13ec0876-b992-42d5-b947-58379dba4a08', metadata={'description': 'Building agents with LLM (large language model) as its core controller is a cool concept. Several proof-of-concepts demos, such as AutoGPT, GPT-Engineer and BabyAGI, serve as inspiring examples. The potentiality of LLM extends beyond generating well-written copies, stories, essays and programs; it can be framed as a powerful general problem solver.\\nAgent System Overview\\nIn a LLM-powered autonomous agent system, LLM functions as the agent’s brain, complemented by several key components:\\n\\nPlanning\\n\\nSubgoal and decomposition: The agent breaks down large tasks into smaller, manageable subgoals, enabling efficient handling of complex tasks.\\nReflection and refinement: The agent can do self-criticism and self-reflection over past actions, learn from mistakes and refine them for future steps, thereby improving the quality of final results.\\n\\n\\nMemory\\n\\nShort-term memory: I would consider all the in-context learning (See Prompt Engineering) as utilizing short-term memory of the model to learn.\\nLong-term memory: This provides the agent with the capability to retain and recall (infinite) information over extended periods, often by leveraging an external vector store and fast retrieval.\\n\\n\\nTool use\\n\\nThe agent learns to call external APIs for extra information that is missing from the model weights (often hard to change after pre-training), including current information, code execution capability, access to proprietary information sources and more.\\n\\n\\n\\n\\nFig. 1. Overview of a LLM-powered autonomous agent system.\\nComponent One: Planning\\nA complicated task usually involves many steps. An agent needs to know what they are and plan ahead.', 'language': 'en', 'source': 'https://lilianweng.github.io/posts/2023-06-23-agent/', 'title': \"LLM Powered Autonomous Agents | Lil'Log\"}, page_content='Planning\\n\\nSubgoal and decomposition: The agent breaks down large tasks into smaller, manageable subgoals, enabling efficient handling of complex tasks.\\nReflection and refinement: The agent can do self-criticism and self-reflection over past actions, learn from mistakes and refine them for future steps, thereby improving the quality of final results.\\n\\n\\nMemory'),\n",
       " Document(id='3c6730dc-8988-4404-bb66-e52867705055', metadata={'description': 'Building agents with LLM (large language model) as its core controller is a cool concept. Several proof-of-concepts demos, such as AutoGPT, GPT-Engineer and BabyAGI, serve as inspiring examples. The potentiality of LLM extends beyond generating well-written copies, stories, essays and programs; it can be framed as a powerful general problem solver.\\nAgent System Overview\\nIn a LLM-powered autonomous agent system, LLM functions as the agent’s brain, complemented by several key components:\\n\\nPlanning\\n\\nSubgoal and decomposition: The agent breaks down large tasks into smaller, manageable subgoals, enabling efficient handling of complex tasks.\\nReflection and refinement: The agent can do self-criticism and self-reflection over past actions, learn from mistakes and refine them for future steps, thereby improving the quality of final results.\\n\\n\\nMemory\\n\\nShort-term memory: I would consider all the in-context learning (See Prompt Engineering) as utilizing short-term memory of the model to learn.\\nLong-term memory: This provides the agent with the capability to retain and recall (infinite) information over extended periods, often by leveraging an external vector store and fast retrieval.\\n\\n\\nTool use\\n\\nThe agent learns to call external APIs for extra information that is missing from the model weights (often hard to change after pre-training), including current information, code execution capability, access to proprietary information sources and more.\\n\\n\\n\\n\\nFig. 1. Overview of a LLM-powered autonomous agent system.\\nComponent One: Planning\\nA complicated task usually involves many steps. An agent needs to know what they are and plan ahead.', 'language': 'en', 'source': 'https://lilianweng.github.io/posts/2023-06-23-agent/', 'title': \"LLM Powered Autonomous Agents | Lil'Log\"}, page_content='Challenges in long-term planning and task decomposition: Planning over a lengthy history and effectively exploring the solution space remain challenging. LLMs struggle to adjust plans when faced with unexpected errors, making them less robust compared to humans who learn from trial and error.'),\n",
       " Document(id='3852c21c-6832-4b66-a98e-76da6c53dfbc', metadata={'description': 'Building agents with LLM (large language model) as its core controller is a cool concept. Several proof-of-concepts demos, such as AutoGPT, GPT-Engineer and BabyAGI, serve as inspiring examples. The potentiality of LLM extends beyond generating well-written copies, stories, essays and programs; it can be framed as a powerful general problem solver.\\nAgent System Overview\\nIn a LLM-powered autonomous agent system, LLM functions as the agent’s brain, complemented by several key components:\\n\\nPlanning\\n\\nSubgoal and decomposition: The agent breaks down large tasks into smaller, manageable subgoals, enabling efficient handling of complex tasks.\\nReflection and refinement: The agent can do self-criticism and self-reflection over past actions, learn from mistakes and refine them for future steps, thereby improving the quality of final results.\\n\\n\\nMemory\\n\\nShort-term memory: I would consider all the in-context learning (See Prompt Engineering) as utilizing short-term memory of the model to learn.\\nLong-term memory: This provides the agent with the capability to retain and recall (infinite) information over extended periods, often by leveraging an external vector store and fast retrieval.\\n\\n\\nTool use\\n\\nThe agent learns to call external APIs for extra information that is missing from the model weights (often hard to change after pre-training), including current information, code execution capability, access to proprietary information sources and more.\\n\\n\\n\\n\\nFig. 1. Overview of a LLM-powered autonomous agent system.\\nComponent One: Planning\\nA complicated task usually involves many steps. An agent needs to know what they are and plan ahead.', 'language': 'en', 'source': 'https://lilianweng.github.io/posts/2023-06-23-agent/', 'title': \"LLM Powered Autonomous Agents | Lil'Log\"}, page_content='(3) Task execution: Expert models execute on the specific tasks and log results.\\nInstruction:')]"
      ]
     },
     "execution_count": 43,
     "metadata": {},
     "output_type": "execute_result"
    }
   ],
   "source": [
    "unique_docs = retriever_from_llm.invoke(question)\n",
    "unique_docs"
   ]
  },
  {
   "cell_type": "markdown",
   "metadata": {
    "id": "Gks5lkYeSx7c"
   },
   "source": [
    "**(Optional)See how to build  conversational rag at https://python.langchain.com/docs/how_to/qa_chat_history_how_to/**"
   ]
  },
  {
   "cell_type": "markdown",
   "metadata": {},
   "source": [
    "## Conversational-RAG"
   ]
  },
  {
   "cell_type": "code",
   "execution_count": 44,
   "metadata": {},
   "outputs": [],
   "source": [
    "from langchain_openai import ChatOpenAI\n",
    "from langchain_community.document_loaders import PyPDFLoader\n",
    "from langchain.text_splitter import CharacterTextSplitter\n",
    "from langchain_community.vectorstores import FAISS\n",
    "from langchain_openai.embeddings import OpenAIEmbeddings\n",
    "from langchain_huggingface.embeddings import HuggingFaceEmbeddings"
   ]
  },
  {
   "cell_type": "code",
   "execution_count": 45,
   "metadata": {},
   "outputs": [
    {
     "data": {
      "text/plain": [
       "True"
      ]
     },
     "execution_count": 45,
     "metadata": {},
     "output_type": "execute_result"
    }
   ],
   "source": [
    "from dotenv import load_dotenv\n",
    "load_dotenv()"
   ]
  },
  {
   "cell_type": "code",
   "execution_count": 46,
   "metadata": {},
   "outputs": [],
   "source": [
    "llm = ChatOpenAI()"
   ]
  },
  {
   "cell_type": "code",
   "execution_count": 47,
   "metadata": {},
   "outputs": [
    {
     "data": {
      "text/plain": [
       "[Document(metadata={'producer': 'Skia/PDF m121 Google Docs Renderer', 'creator': 'PyPDF', 'creationdate': '', 'title': 'Corporate Travel Policy', 'source': 'travel-policy.pdf', 'total_pages': 4, 'page': 0, 'page_label': '1'}, page_content='TravelExpenseGuidelines\\nBooking:\\n● Usepreferredvendors:Bookflights,hotels,andcarrentalsthroughcompany-approvedvendorstoensurecompetitiveratesandcompliancewithtravelpolicies.(e.g.,Expedia,Travelocity, Concur)● Bookinadvance:Planandbooktripsatleasttwoweeksinadvancefordomestictravelandfourweeksforinternationaltraveltosecurebetterratesandavoidlast-minutecosts.● Seekpre-approval:Obtainapprovalforallbusinesstripsbeforebooking,especiallyforinternationaltravelorexceedingbudgetlimits.Thiscanbedonethroughadepartmentheadoradedicatedtravelcoordinator.● Maintaindocumentation:Keepalloriginalreceiptsandinvoicesfortravelexpensesforreimbursementpurposes.Scananduploadthemtothedesignatedexpensereportingsystem.\\nTransportation:\\n● Airfare:○ Domesticflights:Economyclassisrequired.Ticketsexceeding$500requirepre-approvalfromadepartmenthead.○ Internationalflights:Economyorcoachclassisrequired.Ticketsexceeding$1,000requirepre-approvalfromadepartmentheadand/orseniormanagement.●● Groundtransportation:○ Ridesharing:**Reimbursableupto$50perday, withUberPoolorLyftLinepreferred.○ Publictransportation:**Reimbursablebasedonactualcosts,withamaximumof$20perday.○ Inter-citybus:**Reimbursablebasedonactualcosts,withamaximumof$100pertrip.'),\n",
       " Document(metadata={'producer': 'Skia/PDF m121 Google Docs Renderer', 'creator': 'PyPDF', 'creationdate': '', 'title': 'Corporate Travel Policy', 'source': 'travel-policy.pdf', 'total_pages': 4, 'page': 1, 'page_label': '2'}, page_content='○ Taxis:Reimbursableonlywithpre-approvalforspecificcircumstances.●● Rentalcars:○ Economyorcompactclassisrequired.○ Mileageallowanceof$0.50permile.○ Gasandtollsarereimbursablebasedonreceipts.●\\nAccommodation:\\n● Company-approvedhotels:Selectfromapre-selectedlistofhotelswithinthefollowingbudgetguidelines:○ Majorcities:$150-200pernight○ Smallercities/towns:$100-150pernight●● Sharedaccommodations:Encouragesharedaccommodationsformulti-persontripstomaximizecostsavings.● Mealperdiems:Followestablishedperdiemratesformealsinsteadofitemizedexpenseclaims:○ Breakfast:$15○ Lunch:$20○ Dinner:$30●\\nOtherExpenses:\\n● Businessmeals:○ Onlyreimbursablewhenaccompaniedbyaclientorcolleague.○ Maximum$50perpersonpermeal.○ Alcoholicbeveragesnotreimbursable.●'),\n",
       " Document(metadata={'producer': 'Skia/PDF m121 Google Docs Renderer', 'creator': 'PyPDF', 'creationdate': '', 'title': 'Corporate Travel Policy', 'source': 'travel-policy.pdf', 'total_pages': 4, 'page': 2, 'page_label': '3'}, page_content='● Incidentals:Allocateaspecificbudgetof$50perdayforincidentalexpenseslikebaggagefees,laundry, andinternetaccess.● Entertainment:○ Limitbusinessentertainmentexpensestothosedeemedessentialforclientrelationsorbusinessdevelopment.○ Maximum$100perpersonperevent.○ Requirespre-approvalfromadepartmenthead.●\\nReportingandReimbursement:\\n● Submitexpensereportspromptly:Submitdetailedexpensereportswithin5businessdaysafterthetripthroughthedesignatedcompanysystem.● Maintainoriginalreceipts:Provideoriginalreceiptsforallclaimedexpenses.● Non-reimbursableexpenses:Beawareofexpensesnotcoveredbythetravelpolicy, suchas:○ Personalpurchases○ Latefees○ Upgradesnotpre-approved○ Mini-barcharges○ Roomservicefees●\\nAdditionalConsiderations:\\n● Travelinsurance:Thecompanymayrequireorrecommendtravelinsuranceforspecificdestinationsoractivities.Individualplanscanrangefrom$50-$100pertrip.● Dutyofcare:Employeesshouldbeawareofcompanypoliciesregardingsafetyandsecuritywhiletraveling.Thisincludesmandatorytrainingandaccessto24/7emergencyassistance.'),\n",
       " Document(metadata={'producer': 'Skia/PDF m121 Google Docs Renderer', 'creator': 'PyPDF', 'creationdate': '', 'title': 'Corporate Travel Policy', 'source': 'travel-policy.pdf', 'total_pages': 4, 'page': 3, 'page_label': '4'}, page_content=\"● Sustainability:Encourageenvironmentallyresponsibletravelchoiceslikeusingpublictransportation,optingforeco-friendlyhotels,andminimizingpaperreceipts.\\nNote:Thesedollaramountsareexamplesandmayneedtobeadjustedbasedonthecompany'sbudget,geographicallocation,andindustrystandards.Itisimportanttoreviewandupdatethetravelexpenseguidelinesregularlytoensuretheyremainrelevantandeffective.\")]"
      ]
     },
     "execution_count": 47,
     "metadata": {},
     "output_type": "execute_result"
    }
   ],
   "source": [
    "loader = PyPDFLoader(\"travel-policy.pdf\")\n",
    "documents = loader.load()\n",
    "documents"
   ]
  },
  {
   "cell_type": "code",
   "execution_count": 48,
   "metadata": {},
   "outputs": [
    {
     "name": "stderr",
     "output_type": "stream",
     "text": [
      "Created a chunk of size 667, which is longer than the specified 500\n"
     ]
    }
   ],
   "source": [
    "text_splitter = CharacterTextSplitter(chunk_size=500, chunk_overlap=50, separator=\"\\n\")\n",
    "splits = text_splitter.split_documents(documents=documents)"
   ]
  },
  {
   "cell_type": "code",
   "execution_count": 49,
   "metadata": {},
   "outputs": [],
   "source": [
    "vectorstore = FAISS.from_documents(splits, OpenAIEmbeddings())\n",
    "retriever = vectorstore.as_retriever()"
   ]
  },
  {
   "cell_type": "code",
   "execution_count": 74,
   "metadata": {},
   "outputs": [
    {
     "data": {
      "text/plain": [
       "'- Submit expense reports promptly within 5 business days after the trip through the designated company system.\\n- Maintain original receipts for all claimed expenses.\\n- Be aware of non-reimbursable expenses, such as:\\n  - Personal purchases\\n  - Late fees\\n  - Upgrades not pre-approved\\n  - Mini-bar charges\\n  - Room service fees\\n- Encourage environmentally responsible travel choices, such as using public transportation, opting for eco-friendly hotels, and minimizing paper receipts.\\n- Use preferred vendors to book flights, hotels, and car rentals to ensure competitive rates and compliance with travel policies (e.g., Expedia, Travelocity, Concur).\\n- Book trips at least two weeks in advance for domestic travel and four weeks for international travel to secure better rates and avoid last-minute costs.\\n- Obtain approval for all business trips before booking, especially for international travel or exceeding budget limits, through a department head or dedicated travel coordinator.\\n- Keep all original receipts and invoices for travel expenses for reimbursement purposes and scan/upload them to the designated expense reporting system.'"
      ]
     },
     "execution_count": 74,
     "metadata": {},
     "output_type": "execute_result"
    }
   ],
   "source": [
    "from langchain_core.prompts import ChatPromptTemplate\n",
    "from langchain_core.runnables import RunnablePassthrough\n",
    "from langchain.chains.combine_documents.stuff import create_stuff_documents_chain\n",
    "from langchain.chains.retrieval import create_retrieval_chain\n",
    "from langchain_core.prompts import MessagesPlaceholder\n",
    "\n",
    "message = \"\"\"\n",
    "Answer this question using the provided context only. If you don't know the answer, just say 'I don't know'.\n",
    "{input}\n",
    "Context:\n",
    "{context}\n",
    "\"\"\"\n",
    "\n",
    "prompt = ChatPromptTemplate.from_messages([\n",
    "    MessagesPlaceholder(\"chat_history\"),\n",
    "    (\"human\",message)\n",
    "])\n",
    "llm = ChatOpenAI(model='gpt-4o-mini')\n",
    "\n",
    "question_answer_chain = create_stuff_documents_chain(llm, prompt)\n",
    "rag_chain = create_retrieval_chain(retriever, question_answer_chain)\n",
    "\n",
    "chat_history = []\n",
    "input = \"\"\"Give me the guidelines to be followed in travel expenses. Give as bulletin points\"\"\"\n",
    "response = rag_chain.invoke({\"input\": input, \"chat_history\": chat_history})\n",
    "\n",
    "response[\"answer\"]"
   ]
  },
  {
   "cell_type": "code",
   "execution_count": 57,
   "metadata": {},
   "outputs": [
    {
     "name": "stdout",
     "output_type": "stream",
     "text": [
      "- Submit expense reports promptly: Submit detailed expense reports within 5 business days after the trip through the designated company system.\n",
      "- Maintain original receipts: Provide original receipts for all claimed expenses.\n",
      "- Be aware of non-reimbursable expenses: These include personal purchases, late fees, upgrades not pre-approved, mini-bar charges, and room service fees.\n",
      "- Encourage environmentally responsible travel choices: Use public transportation, opt for eco-friendly hotels, and minimize paper receipts.\n",
      "- Use preferred vendors: Book flights, hotels, and car rentals through company-approved vendors to ensure competitive rates and compliance with travel policies.\n",
      "- Book in advance: Plan and book trips at least two weeks in advance for domestic travel and four weeks for international travel to secure better rates and avoid last-minute costs.\n",
      "- Seek pre-approval: Obtain approval for all business trips before booking, especially for international travel or exceeding budget limits, through a department head or dedicated travel coordinator.\n",
      "- Maintain documentation: Keep all original receipts and invoices for travel expenses for reimbursement purposes, and scan and upload them to the designated expense reporting system.\n"
     ]
    }
   ],
   "source": [
    "from langchain_core.messages import AIMessage,HumanMessage\n",
    "chat_history = []\n",
    "chat_history.extend(\n",
    "    [\n",
    "        HumanMessage(content=input),\n",
    "        AIMessage(content=response[\"answer\"])\n",
    "    ]\n",
    ")\n",
    "input = \"\"\"Give me the guidelines to be followed in travel expenses. Give as bulletin points\"\"\"\n",
    "response = rag_chain.invoke({\"input\": input, \"chat_history\": chat_history})\n",
    "\n",
    "print(response[\"answer\"])"
   ]
  },
  {
   "cell_type": "code",
   "execution_count": 58,
   "metadata": {},
   "outputs": [],
   "source": [
    "from langchain_core.prompts import MessagesPlaceholder\n",
    "from langchain.chains import create_history_aware_retriever\n",
    "\n",
    "contextualie_system_prompt = \"\"\"Given above chat history and the below latest user question\n",
    "which might reference context in the chat history,formulate a standalone question which can be \n",
    "understood without the chat history. DO NOT answer the question,just reformulate it if needed \n",
    "and otherwise it as is. \n",
    "Below is the latest question:\n",
    "{input}\n",
    "\"\"\"\n",
    "\n",
    "contextualize_prompt = ChatPromptTemplate.from_messages([\n",
    "    MessagesPlaceholder(\"chat_history\"),\n",
    "    (\"human\",f\"\"\"{contextualie_system_prompt}\"\"\")])\n",
    "\n",
    "history_aware_retriever = create_history_aware_retriever(llm,retriever,contextualize_prompt)"
   ]
  },
  {
   "cell_type": "code",
   "execution_count": 61,
   "metadata": {},
   "outputs": [
    {
     "data": {
      "text/plain": [
       "[Document(id='ef436e93-a8fe-4e78-bef1-ad28f7399283', metadata={'producer': 'Skia/PDF m121 Google Docs Renderer', 'creator': 'PyPDF', 'creationdate': '', 'title': 'Corporate Travel Policy', 'source': 'travel-policy.pdf', 'total_pages': 4, 'page': 0, 'page_label': '1'}, page_content='TravelExpenseGuidelines\\nBooking:'),\n",
       " Document(id='2f92daa6-4ae5-4662-8902-ae626db14889', metadata={'producer': 'Skia/PDF m121 Google Docs Renderer', 'creator': 'PyPDF', 'creationdate': '', 'title': 'Corporate Travel Policy', 'source': 'travel-policy.pdf', 'total_pages': 4, 'page': 2, 'page_label': '3'}, page_content='ReportingandReimbursement:\\n● Submitexpensereportspromptly:Submitdetailedexpensereportswithin5businessdaysafterthetripthroughthedesignatedcompanysystem.● Maintainoriginalreceipts:Provideoriginalreceiptsforallclaimedexpenses.● Non-reimbursableexpenses:Beawareofexpensesnotcoveredbythetravelpolicy, suchas:○ Personalpurchases○ Latefees○ Upgradesnotpre-approved○ Mini-barcharges○ Roomservicefees●\\nAdditionalConsiderations:'),\n",
       " Document(id='d6ec98c5-c72c-4b42-8c9f-00a5a103de88', metadata={'producer': 'Skia/PDF m121 Google Docs Renderer', 'creator': 'PyPDF', 'creationdate': '', 'title': 'Corporate Travel Policy', 'source': 'travel-policy.pdf', 'total_pages': 4, 'page': 1, 'page_label': '2'}, page_content='○ Taxis:Reimbursableonlywithpre-approvalforspecificcircumstances.●● Rentalcars:○ Economyorcompactclassisrequired.○ Mileageallowanceof$0.50permile.○ Gasandtollsarereimbursablebasedonreceipts.●\\nAccommodation:'),\n",
       " Document(id='700724c3-a400-4d61-bcf6-fd1bc87b056f', metadata={'producer': 'Skia/PDF m121 Google Docs Renderer', 'creator': 'PyPDF', 'creationdate': '', 'title': 'Corporate Travel Policy', 'source': 'travel-policy.pdf', 'total_pages': 4, 'page': 0, 'page_label': '1'}, page_content='● Airfare:○ Domesticflights:Economyclassisrequired.Ticketsexceeding$500requirepre-approvalfromadepartmenthead.○ Internationalflights:Economyorcoachclassisrequired.Ticketsexceeding$1,000requirepre-approvalfromadepartmentheadand/orseniormanagement.●● Groundtransportation:○ Ridesharing:**Reimbursableupto$50perday, withUberPoolorLyftLinepreferred.○ Publictransportation:**Reimbursablebasedonactualcosts,withamaximumof$20perday.○ Inter-citybus:**Reimbursablebasedonactualcosts,withamaximumof$100pertrip.')]"
      ]
     },
     "execution_count": 61,
     "metadata": {},
     "output_type": "execute_result"
    }
   ],
   "source": [
    "result = history_aware_retriever.invoke({\"input\":\"Can you explain the 1st point\",\"chat_history\":chat_history})\n",
    "result"
   ]
  },
  {
   "cell_type": "code",
   "execution_count": 69,
   "metadata": {},
   "outputs": [],
   "source": [
    "system_prompt = (\n",
    "    \"\"\"You are an assistant for question-answering tasks.\n",
    "    Answer this question using the provided context only. If you don't know the answer, just say I don't know\n",
    "    \\n\\n\n",
    "    \"content\":{context}\"\"\"\n",
    ")\n",
    "\n",
    "qa_prompt = ChatPromptTemplate.from_messages(\n",
    "    [\n",
    "        (\"system\",system_prompt),\n",
    "        MessagesPlaceholder(\"chat_history\"),\n",
    "        (\"human\",\"{input}\")\n",
    "    ]\n",
    ")\n",
    "\n",
    "question_answer_chain = create_stuff_documents_chain(llm,qa_prompt)\n",
    "contextual_rag_chain = create_retrieval_chain(history_aware_retriever,question_answer_chain)"
   ]
  },
  {
   "cell_type": "code",
   "execution_count": 70,
   "metadata": {},
   "outputs": [
    {
     "name": "stdout",
     "output_type": "stream",
     "text": [
      "Give me the travel policy norms. I need those in bullet points\n",
      "- Use preferred vendors for booking flights, hotels, and car rentals to ensure competitive rates and compliance with travel policies (e.g., Expedia, Travelocity, Concur).\n",
      "- Book trips at least two weeks in advance for domestic travel and four weeks for international travel to secure better rates and avoid last-minute costs.\n",
      "- Obtain pre-approval for all business trips before booking, especially for international travel or exceeding budget limits, through a department head or a dedicated travel coordinator.\n",
      "- Keep all original receipts and invoices for travel expenses for reimbursement purposes. Scan and upload them to the designated expense reporting system.\n",
      "- Encourage environmentally responsible travel choices, such as using public transportation, opting for eco-friendly hotels, and minimizing paper receipts.\n",
      "- Domestic flights: Economy class is required. Tickets exceeding $500 require pre-approval from a department head.\n",
      "- International flights: Economy or coach class is required. Tickets exceeding $1,000 require pre-approval from a department head and/or senior management.\n",
      "- Ground transportation:\n",
      "  - Ridesharing: Reimbursable up to $50 per day, with UberPool or LyftLine preferred.\n",
      "  - Public transportation: Reimbursable based on actual costs, with a maximum of $20 per day.\n",
      "  - Inter-city bus: Reimbursable based on actual costs, with a maximum of $100 per trip.\n"
     ]
    }
   ],
   "source": [
    "from langchain_core.messages import AIMessage,HumanMessage\n",
    "\n",
    "chat_history = []\n",
    "question = \"\"\"Give me the travel policy norms. I need those in bullet points\"\"\"\n",
    "print(question)\n",
    "ai_message_1 = contextual_rag_chain.invoke({\"input\":question,\"chat_history\":chat_history})\n",
    "print(ai_message_1[\"answer\"])"
   ]
  },
  {
   "cell_type": "code",
   "execution_count": 71,
   "metadata": {},
   "outputs": [
    {
     "name": "stdout",
     "output_type": "stream",
     "text": [
      "Explain in elaborate about the 4th point\n",
      "The 4th point emphasizes the importance of maintaining documentation for travel expenses in order to facilitate reimbursement. Here are the key aspects of this guideline:\n",
      "\n",
      "1. **Original Receipts**: Employees are required to keep all original receipts related to their travel expenses. This is crucial because receipts serve as proof of the expenses incurred during the trip. Original receipts help validate claims made in expense reports and are necessary for verifying that the expenses conform to the company's travel policies.\n",
      "\n",
      "2. **Invoices**: In addition to receipts, any invoices that may pertain to travel-related expenses should also be retained. This might include invoices for accommodations, conference fees, or other business-related costs incurred while traveling.\n",
      "\n",
      "3. **Reimbursement Purposes**: The documentation of expenses is specifically aimed at ensuring that employees can be reimbursed for the costs they incurred during business travel. Without proper documentation, employees may face difficulties in getting reimbursed, or their claims may be denied altogether.\n",
      "\n",
      "4. **Scanning and Uploading**: The guideline states that employees should scan and upload their receipts and invoices to the designated expense reporting system. This modern approach not only helps in keeping a digital record but also streamlines the reimbursement process. It allows for quicker processing and can reduce the chances of physical documentation being lost or misplaced.\n",
      "\n",
      "5. **Compliance with Policies**: By adhering to this documentation guideline, employees ensure compliance with the company’s travel policies. It reflects a systematic approach to managing travel expenses and enhances accountability within the organization.\n",
      "\n",
      "Overall, the 4th point stresses the significance of proper record-keeping for travel expenses to ensure that employees can recover their out-of-pocket costs while aligning with the company’s financial protocols.\n"
     ]
    }
   ],
   "source": [
    "chat_history.extend(\n",
    "    [\n",
    "        HumanMessage(content=question),\n",
    "        AIMessage(content=ai_message_1[\"answer\"])\n",
    "    ]\n",
    ")\n",
    "\n",
    "second_question = \"\"\"Explain in elaborate about the 4th point\"\"\"\n",
    "print(second_question)\n",
    "ai_message_2 = contextual_rag_chain.invoke({\"input\":second_question,\"chat_history\":chat_history})\n",
    "print(ai_message_2[\"answer\"])\n",
    "\n",
    "chat_history.extend(\n",
    "    [HumanMessage(content=second_question), AIMessage(content=ai_message_2[\"answer\"])]\n",
    ")"
   ]
  },
  {
   "cell_type": "code",
   "execution_count": 72,
   "metadata": {},
   "outputs": [
    {
     "data": {
      "text/plain": [
       "[HumanMessage(content='Give me the travel policy norms. I need those in bullet points', additional_kwargs={}, response_metadata={}),\n",
       " AIMessage(content='- Use preferred vendors for booking flights, hotels, and car rentals to ensure competitive rates and compliance with travel policies (e.g., Expedia, Travelocity, Concur).\\n- Book trips at least two weeks in advance for domestic travel and four weeks for international travel to secure better rates and avoid last-minute costs.\\n- Obtain pre-approval for all business trips before booking, especially for international travel or exceeding budget limits, through a department head or a dedicated travel coordinator.\\n- Keep all original receipts and invoices for travel expenses for reimbursement purposes. Scan and upload them to the designated expense reporting system.\\n- Encourage environmentally responsible travel choices, such as using public transportation, opting for eco-friendly hotels, and minimizing paper receipts.\\n- Domestic flights: Economy class is required. Tickets exceeding $500 require pre-approval from a department head.\\n- International flights: Economy or coach class is required. Tickets exceeding $1,000 require pre-approval from a department head and/or senior management.\\n- Ground transportation:\\n  - Ridesharing: Reimbursable up to $50 per day, with UberPool or LyftLine preferred.\\n  - Public transportation: Reimbursable based on actual costs, with a maximum of $20 per day.\\n  - Inter-city bus: Reimbursable based on actual costs, with a maximum of $100 per trip.', additional_kwargs={}, response_metadata={}),\n",
       " HumanMessage(content='Explain in elaborate about the 4th point', additional_kwargs={}, response_metadata={}),\n",
       " AIMessage(content=\"The 4th point emphasizes the importance of maintaining documentation for travel expenses in order to facilitate reimbursement. Here are the key aspects of this guideline:\\n\\n1. **Original Receipts**: Employees are required to keep all original receipts related to their travel expenses. This is crucial because receipts serve as proof of the expenses incurred during the trip. Original receipts help validate claims made in expense reports and are necessary for verifying that the expenses conform to the company's travel policies.\\n\\n2. **Invoices**: In addition to receipts, any invoices that may pertain to travel-related expenses should also be retained. This might include invoices for accommodations, conference fees, or other business-related costs incurred while traveling.\\n\\n3. **Reimbursement Purposes**: The documentation of expenses is specifically aimed at ensuring that employees can be reimbursed for the costs they incurred during business travel. Without proper documentation, employees may face difficulties in getting reimbursed, or their claims may be denied altogether.\\n\\n4. **Scanning and Uploading**: The guideline states that employees should scan and upload their receipts and invoices to the designated expense reporting system. This modern approach not only helps in keeping a digital record but also streamlines the reimbursement process. It allows for quicker processing and can reduce the chances of physical documentation being lost or misplaced.\\n\\n5. **Compliance with Policies**: By adhering to this documentation guideline, employees ensure compliance with the company’s travel policies. It reflects a systematic approach to managing travel expenses and enhances accountability within the organization.\\n\\nOverall, the 4th point stresses the significance of proper record-keeping for travel expenses to ensure that employees can recover their out-of-pocket costs while aligning with the company’s financial protocols.\", additional_kwargs={}, response_metadata={})]"
      ]
     },
     "execution_count": 72,
     "metadata": {},
     "output_type": "execute_result"
    }
   ],
   "source": [
    "chat_history"
   ]
  },
  {
   "cell_type": "code",
   "execution_count": null,
   "metadata": {},
   "outputs": [],
   "source": []
  }
 ],
 "metadata": {
  "colab": {
   "provenance": []
  },
  "kernelspec": {
   "display_name": "venv",
   "language": "python",
   "name": "python3"
  },
  "language_info": {
   "codemirror_mode": {
    "name": "ipython",
    "version": 3
   },
   "file_extension": ".py",
   "mimetype": "text/x-python",
   "name": "python",
   "nbconvert_exporter": "python",
   "pygments_lexer": "ipython3",
   "version": "3.11.4"
  }
 },
 "nbformat": 4,
 "nbformat_minor": 4
}
