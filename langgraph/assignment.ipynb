{
 "cells": [
  {
   "cell_type": "markdown",
   "metadata": {},
   "source": [
    "# E-commerce Customer Service Automation: Order Tracking System\n",
    "\n",
    "## Overview\n",
    "\n",
    "In this lab, you will build an automated order tracking system for an e-commerce customer service platform using LangGraph. The system will extract order information from customer queries, retrieve order details from a database, and generate helpful responses.\n",
    "\n",
    "## Learning Objectives\n",
    "\n",
    "- Implement a multi-step workflow using LangGraph\n",
    "- Extract structured information from natural language queries\n",
    "- Query a database using LLM-powered agents\n",
    "- Generate contextual responses based on retrieved data\n",
    "- Handle various edge cases in customer service scenarios\n",
    "\n",
    "## The Challenge\n",
    "\n",
    "ShopSmart, an e-commerce company, needs to automate their customer service for order tracking inquiries. Customers frequently ask about their order status through various channels. Currently, customer service representatives manually look up order information in the database, which is time-consuming and prone to delays.\n",
    "\n",
    "Your task is to build an automated system that can:\n",
    "1. Understand natural language queries about order tracking\n",
    "2. Extract order IDs and customer IDs from these queries\n",
    "3. Retrieve relevant order information from a database\n",
    "4. Generate helpful, personalized responses about order status"
   ]
  },
  {
   "cell_type": "markdown",
   "metadata": {},
   "source": [
    "## Database Setup\n",
    "\n",
    "First, let's create a database with sample order and customer data for testing:"
   ]
  },
  {
   "cell_type": "code",
   "execution_count": 4,
   "metadata": {},
   "outputs": [
    {
     "name": "stdout",
     "output_type": "stream",
     "text": [
      "Database created successfully with sample data!\n"
     ]
    }
   ],
   "source": [
    "# Create a simple SQLite database for testing\n",
    "import sqlite3\n",
    "\n",
    "# Connect to the database (will create it if it doesn't exist)\n",
    "conn = sqlite3.connect(\"ecommerce_service2.db\")\n",
    "cursor = conn.cursor()\n",
    "\n",
    "# Create customers table\n",
    "cursor.execute('''\n",
    "CREATE TABLE IF NOT EXISTS customers (\n",
    "    customer_id TEXT PRIMARY KEY,\n",
    "    name TEXT NOT NULL,\n",
    "    email TEXT NOT NULL,\n",
    "    phone TEXT,\n",
    "    address TEXT\n",
    ")\n",
    "''')\n",
    "\n",
    "# Create orders table\n",
    "cursor.execute('''\n",
    "CREATE TABLE IF NOT EXISTS orders (\n",
    "    order_id TEXT PRIMARY KEY,\n",
    "    customer_id TEXT NOT NULL,\n",
    "    order_date TEXT NOT NULL,\n",
    "    status TEXT NOT NULL,\n",
    "    tracking_number TEXT,\n",
    "    estimated_delivery TEXT,\n",
    "    FOREIGN KEY (customer_id) REFERENCES customers (customer_id)\n",
    ")\n",
    "''')\n",
    "\n",
    "# Insert sample data\n",
    "cursor.executemany('''\n",
    "INSERT OR REPLACE INTO customers (customer_id, name, email, phone, address)\n",
    "VALUES (?, ?, ?, ?, ?)\n",
    "''', [\n",
    "    ('C1001', 'John Doe', 'john.doe@example.com', '555-123-4567', '123 Main St'),\n",
    "    ('C1002', 'Jane Smith', 'jane.smith@example.com', '555-987-6543', '456 Oak Ave'),\n",
    "    ('C1003', 'Bob Johnson', 'bob.johnson@example.com', '555-555-5555', '789 Pine Rd'),\n",
    "    ('C1004', 'Sarah Williams', 'sarah.w@example.com', '555-222-3333', '101 Maple Dr'),\n",
    "    ('C1005', 'Michael Brown', 'mbrown@example.com', '555-444-7777', '202 Cedar Ln')\n",
    "])\n",
    "\n",
    "cursor.executemany('''\n",
    "INSERT OR REPLACE INTO orders (order_id, customer_id, order_date, status, tracking_number, estimated_delivery)\n",
    "VALUES (?, ?, ?, ?, ?, ?)\n",
    "''', [\n",
    "    ('O1001', 'C1001', '2023-05-01', 'Delivered', 'TRK123456', '2023-05-05'),\n",
    "    ('O1002', 'C1001', '2023-06-15', 'Shipped', 'TRK789012', '2023-06-20'),\n",
    "    ('O1003', 'C1002', '2023-06-20', 'Processing', None, None),\n",
    "    ('O1004', 'C1003', '2023-06-25', 'Cancelled', None, None),\n",
    "    ('O1005', 'C1002', '2023-07-01', 'Pending', None, None),\n",
    "    ('O1006', 'C1004', '2023-07-05', 'Shipped', 'TRK345678', '2023-07-10'),\n",
    "    ('O1007', 'C1005', '2023-07-07', 'Processing', None, None),\n",
    "    ('O1008', 'C1001', '2023-07-10', 'Pending', None, None),\n",
    "    ('O1009', 'C1003', '2023-07-12', 'Shipped', 'TRK901234', '2023-07-17'),\n",
    "    ('O1010', 'C1002', '2023-07-15', 'Delivered', 'TRK567890', '2023-07-18')\n",
    "])\n",
    "\n",
    "conn.commit()\n",
    "conn.close()\n",
    "\n",
    "print(\"Database created successfully with sample data!\")"
   ]
  },
  {
   "cell_type": "markdown",
   "metadata": {},
   "source": [
    "## Implementation Steps\n",
    "\n",
    "### Step 1: Setup and Environment Preparation\n",
    "\n",
    "Install the necessary packages and set up your environment."
   ]
  },
  {
   "cell_type": "code",
   "execution_count": null,
   "metadata": {},
   "outputs": [],
   "source": [
    "# Install required packages if needed\n",
    "# !pip install langchain langchain_openai langchain_community langgraph pydantic sqlalchemy\n",
    "\n",
    "# Import necessary libraries\n",
    "import os\n",
    "from typing import Dict, List, Optional, TypedDict, Any\n",
    "from langchain_openai import ChatOpenAI\n",
    "from langchain_core.prompts import ChatPromptTemplate, MessagesPlaceholder, PromptTemplate\n",
    "from langchain_community.utilities.sql_database import SQLDatabase\n",
    "from langchain.tools.sql_database.tool import QuerySQLDataBaseTool\n",
    "from langchain.agents import create_tool_calling_agent, AgentExecutor\n",
    "from langchain.output_parsers import PydanticOutputParser\n",
    "from langgraph.graph import StateGraph, END\n",
    "from pydantic import BaseModel, Field\n",
    "import json\n",
    "\n",
    "# Set your OpenAI API key\n",
    "os.environ[\"OPENAI_API_KEY\"] = \"your-api-key-here\""
   ]
  },
  {
   "cell_type": "markdown",
   "metadata": {},
   "source": [
    "### Step 2: Define the State Type\n",
    "\n",
    "Create a state type definition to track information throughout the workflow."
   ]
  },
  {
   "cell_type": "code",
   "execution_count": null,
   "metadata": {},
   "outputs": [],
   "source": [
    "# TODO: Define the OrderTrackingState class using TypedDict\n",
    "# The state should include fields for:\n",
    "# - query: The user's original query\n",
    "# - order_id: The order ID if provided or extracted\n",
    "# - customer_id: The customer ID if provided or extracted\n",
    "# - tracking_info: The tracking information retrieved\n",
    "# - response: The final response to the user"
   ]
  },
  {
   "cell_type": "markdown",
   "metadata": {},
   "source": [
    "### Step 3: Implement Order Information Extraction\n",
    "\n",
    "Create a function that extracts order and customer IDs from natural language queries."
   ]
  },
  {
   "cell_type": "code",
   "execution_count": null,
   "metadata": {},
   "outputs": [],
   "source": [
    "# TODO: Implement the extract_order_info function\n",
    "# The function should:\n",
    "# - Take the state as input\n",
    "# - Check if order_id and customer_id are already in the state\n",
    "# - If not, use an LLM to extract this information from the query\n",
    "# - Update the state with any extracted IDs\n",
    "# - Return the updated state"
   ]
  },
  {
   "cell_type": "markdown",
   "metadata": {},
   "source": [
    "### Step 4: Implement Tracking Information Retrieval\n",
    "\n",
    "Create a function that queries the database for order information."
   ]
  },
  {
   "cell_type": "code",
   "execution_count": null,
   "metadata": {},
   "outputs": [],
   "source": [
    "# TODO: Implement the retrieve_tracking_info function\n",
    "# The function should:\n",
    "# - Take the state as input\n",
    "# - Check if either order_id or customer_id is available\n",
    "# - Connect to the database and create a SQL query tool\n",
    "# - Define Pydantic models for structured output\n",
    "# - Create a tool-calling agent with the SQL tool\n",
    "# - Execute the agent to retrieve order information\n",
    "# - Parse the response into structured data\n",
    "# - Update the state with the tracking information\n",
    "# - Return the updated state"
   ]
  },
  {
   "cell_type": "markdown",
   "metadata": {},
   "source": [
    "### Step 5: Implement Response Generation\n",
    "\n",
    "Create a function that generates helpful responses based on the tracking information."
   ]
  },
  {
   "cell_type": "code",
   "execution_count": null,
   "metadata": {},
   "outputs": [],
   "source": [
    "# TODO: Implement the generate_tracking_response function\n",
    "# The function should:\n",
    "# - Take the state as input\n",
    "# - Check if tracking information is available\n",
    "# - Format the tracking information for the response\n",
    "# - Use an LLM to generate a helpful, personalized response\n",
    "# - Update the state with the generated response\n",
    "# - Return the updated state"
   ]
  },
  {
   "cell_type": "markdown",
   "metadata": {},
   "source": [
    "### Step 6: Create the Order Tracking Graph\n",
    "\n",
    "Assemble the workflow using LangGraph."
   ]
  },
  {
   "cell_type": "code",
   "execution_count": null,
   "metadata": {},
   "outputs": [],
   "source": [
    "# TODO: Implement the create_order_tracking_subgraph function\n",
    "# The function should:\n",
    "# - Initialize a StateGraph with your OrderTrackingState\n",
    "# - Add your three functions as nodes in the graph\n",
    "# - Connect the nodes with appropriate edges\n",
    "# - Set the entry point\n",
    "# - Compile and return the graph\n",
    "\n",
    "# Create the order tracking subgraph\n",
    "# order_tracking_subgraph = create_order_tracking_subgraph()\n",
    "\n",
    "# Visualize the graph (optional)\n",
    "# from IPython.display import Image\n",
    "# Image(order_tracking_subgraph.get_graph().draw_mermaid_png())"
   ]
  },
  {
   "cell_type": "markdown",
   "metadata": {},
   "source": [
    "### Step 7: Testing and Evaluation\n",
    "\n",
    "Test your implementation with various scenarios."
   ]
  },
  {
   "cell_type": "code",
   "execution_count": null,
   "metadata": {},
   "outputs": [],
   "source": [
    "# TODO: Test your implementation with various queries\n",
    "# Example test queries:\n",
    "test_queries = [\n",
    "    \"Can you tell me the status of my order O1002?\",\n",
    "    \"I'm customer C1001. What's the status of my recent orders?\",\n",
    "    \"Where is my package for order number O1009?\",\n",
    "    \"I'm C1004, when will my order arrive?\",\n",
    "    \"Where is my order?\",  # no ID provided\n",
    "    \"Has order O1010 been delivered to Jane Smith yet?\",\n",
    "    \"My order number is O9999.\"  # non-existent order\n",
    "]\n",
    "\n",
    "# Implement testing code here"
   ]
  }
 ],
 "metadata": {
  "kernelspec": {
   "display_name": ".venv",
   "language": "python",
   "name": "python3"
  },
  "language_info": {
   "codemirror_mode": {
    "name": "ipython",
    "version": 3
   },
   "file_extension": ".py",
   "mimetype": "text/x-python",
   "name": "python",
   "nbconvert_exporter": "python",
   "pygments_lexer": "ipython3",
   "version": "3.12.9"
  }
 },
 "nbformat": 4,
 "nbformat_minor": 4
}
